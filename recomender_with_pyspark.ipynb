{
 "cells": [
  {
   "cell_type": "markdown",
   "metadata": {},
   "source": [
    "## Building a Recommendation System for Movie Rating"
   ]
  },
  {
   "cell_type": "markdown",
   "metadata": {},
   "source": [
    "### Importing Librairies"
   ]
  },
  {
   "cell_type": "code",
   "execution_count": 1,
   "metadata": {},
   "outputs": [],
   "source": [
    "import pandas as pd\n",
    "import numpy as np\n",
    "import math"
   ]
  },
  {
   "cell_type": "markdown",
   "metadata": {},
   "source": [
    "### Loading the dataset"
   ]
  },
  {
   "cell_type": "code",
   "execution_count": 2,
   "metadata": {},
   "outputs": [],
   "source": [
    "ratings = pd.read_csv(\"C:\\\\DATA612\\\\Movie_Ratings.csv\")"
   ]
  },
  {
   "cell_type": "markdown",
   "metadata": {},
   "source": [
    "### Inspecting the dataset"
   ]
  },
  {
   "cell_type": "code",
   "execution_count": 3,
   "metadata": {},
   "outputs": [
    {
     "name": "stdout",
     "output_type": "stream",
     "text": [
      "     Unnamed: 0  Patrick C  Heather  Bryan  Patrick T  Thomas  aaron  vanessa  \\\n",
      "0         Alien        NaN      NaN    2.0        NaN     5.0    4.0      NaN   \n",
      "1        Avatar        4.0      5.0    5.0        4.0     2.0    NaN      4.0   \n",
      "2  Blade Runner        5.0      NaN    NaN        NaN     5.0    4.0      NaN   \n",
      "3    Braveheart        4.0      NaN    5.0        NaN     4.0    4.0      3.0   \n",
      "4     Dodgeball        5.0      4.0    3.0        2.0     4.0    NaN      4.0   \n",
      "\n",
      "   greg  brian  ...  Zak  Matt  Chris.1  Josh  Amy  Valerie  Gary  Stephen  \\\n",
      "0   NaN    4.0  ...  NaN   NaN      4.0   3.0  NaN      NaN   2.0      5.0   \n",
      "1   3.0    NaN  ...  5.0   NaN      NaN   4.0  3.0      2.0   1.0      4.0   \n",
      "2   1.0    5.0  ...  NaN   NaN      3.0   NaN  3.0      3.0   1.0      NaN   \n",
      "3   4.0    4.0  ...  5.0   NaN      4.0   NaN  3.0      4.0   5.0      5.0   \n",
      "4   5.0    3.0  ...  3.0   NaN      3.0   NaN  4.0      3.0   4.0      3.0   \n",
      "\n",
      "   Jessica  Jeff  \n",
      "0      NaN   4.0  \n",
      "1      NaN   4.0  \n",
      "2      NaN   5.0  \n",
      "3      NaN   4.0  \n",
      "4      NaN   3.0  \n",
      "\n",
      "[5 rows x 26 columns]\n"
     ]
    }
   ],
   "source": [
    "print(ratings.head())"
   ]
  },
  {
   "cell_type": "code",
   "execution_count": 4,
   "metadata": {},
   "outputs": [],
   "source": [
    "ratings_mat = np.array(ratings.iloc[:,1:])"
   ]
  },
  {
   "cell_type": "code",
   "execution_count": 5,
   "metadata": {},
   "outputs": [
    {
     "name": "stdout",
     "output_type": "stream",
     "text": [
      "[[nan nan  2. nan  5.  4. nan nan  4. nan nan nan]\n",
      " [ 4.  5.  5.  4.  2. nan  4.  3. nan  3.  5.  4.]\n",
      " [ 5. nan nan nan  5.  4. nan  1.  5.  5. nan nan]\n",
      " [ 4. nan  5. nan  4.  4.  3.  4.  4. nan  3.  4.]\n",
      " [ 5.  4.  3.  2.  4. nan  4.  5.  3.  4.  5.  5.]\n",
      " [ 4.  5.  4.  3.  3. nan  4.  5.  5.  5.  5.  5.]\n",
      " [nan  5.  5. nan  4.  4.  4.  5.  5.  5.  3.  4.]\n",
      " [nan  5.  4. nan  4. nan  2.  3.  3.  1. nan  3.]\n",
      " [ 2. nan  3.  5.  2. nan nan nan  1. nan  2.  2.]\n",
      " [ 4.  4.  3.  2. nan  5.  2.  3.  5.  2.  4.  4.]]\n"
     ]
    }
   ],
   "source": [
    "print(ratings_mat[:10,:12])"
   ]
  },
  {
   "cell_type": "markdown",
   "metadata": {},
   "source": [
    "### Splitting the data into train and test set"
   ]
  },
  {
   "cell_type": "code",
   "execution_count": 6,
   "metadata": {},
   "outputs": [],
   "source": [
    "rating = ratings_mat.copy()"
   ]
  },
  {
   "cell_type": "code",
   "execution_count": 7,
   "metadata": {},
   "outputs": [],
   "source": [
    "rating_test = ratings_mat[5:16,5:16].copy()\n",
    "rating[5:16,5:16]= 'nan' \n",
    "rating_train = rating"
   ]
  },
  {
   "cell_type": "code",
   "execution_count": 8,
   "metadata": {},
   "outputs": [
    {
     "name": "stdout",
     "output_type": "stream",
     "text": [
      "[[nan nan nan nan nan nan nan nan nan nan nan]\n",
      " [nan nan nan nan nan nan nan nan nan nan nan]\n",
      " [nan nan nan nan nan nan nan nan nan nan nan]\n",
      " [nan nan nan nan nan nan nan nan nan nan nan]\n",
      " [nan nan nan nan nan nan nan nan nan nan nan]\n",
      " [nan nan nan nan nan nan nan nan nan nan nan]\n",
      " [nan nan nan nan nan nan nan nan nan nan nan]\n",
      " [nan nan nan nan nan nan nan nan nan nan nan]\n",
      " [nan nan nan nan nan nan nan nan nan nan nan]\n",
      " [nan nan nan nan nan nan nan nan nan nan nan]\n",
      " [nan nan nan nan nan nan nan nan nan nan nan]]\n"
     ]
    }
   ],
   "source": [
    "print(rating_train[5:16,5:16])"
   ]
  },
  {
   "cell_type": "code",
   "execution_count": 9,
   "metadata": {},
   "outputs": [
    {
     "name": "stdout",
     "output_type": "stream",
     "text": [
      "[[nan  4.  5.  5.  5.  5.  5.  5.  5.  3.  5.]\n",
      " [ 4.  4.  5.  5.  5.  3.  4.  3. nan  3.  5.]\n",
      " [nan  2.  3.  3.  1. nan  3.  2.  3.  2. nan]\n",
      " [nan nan nan  1. nan  2.  2.  2.  1.  1.  1.]\n",
      " [ 5.  2.  3.  5.  2.  4.  4.  3.  4.  3.  4.]\n",
      " [ 1.  4.  4.  4.  4.  2.  3.  3.  2.  1.  1.]\n",
      " [nan  3.  5.  4.  4. nan  5.  4. nan  5.  5.]\n",
      " [nan  1. nan  1.  1. nan nan  2. nan  3. nan]\n",
      " [ 3. nan  4.  5.  4. nan  5.  4. nan  5.  5.]\n",
      " [ 4.  4.  4. nan  4. nan  4. nan nan  3.  3.]\n",
      " [ 5. nan  5.  5.  5. nan nan  4. nan  4. nan]]\n"
     ]
    }
   ],
   "source": [
    "print(rating_test)"
   ]
  },
  {
   "cell_type": "markdown",
   "metadata": {},
   "source": [
    "### Mean of train set"
   ]
  },
  {
   "cell_type": "code",
   "execution_count": 10,
   "metadata": {},
   "outputs": [
    {
     "name": "stdout",
     "output_type": "stream",
     "text": [
      "3.4971428571428573\n"
     ]
    }
   ],
   "source": [
    "training_mean = np.nanmean(rating_train)\n",
    "print(training_mean)"
   ]
  },
  {
   "cell_type": "code",
   "execution_count": null,
   "metadata": {},
   "outputs": [],
   "source": []
  },
  {
   "cell_type": "markdown",
   "metadata": {},
   "source": [
    "### Creating a rating matrix of mean for training and test"
   ]
  },
  {
   "cell_type": "code",
   "execution_count": 11,
   "metadata": {},
   "outputs": [],
   "source": [
    "rating_mean_mat_test = np.ones(rating_test.shape)*training_mean"
   ]
  },
  {
   "cell_type": "code",
   "execution_count": 12,
   "metadata": {},
   "outputs": [],
   "source": [
    "rating_mean_mat_train = np.ones(rating_train.shape)*training_mean"
   ]
  },
  {
   "cell_type": "markdown",
   "metadata": {},
   "source": [
    "### Calculating the RMSE for raw average for both training data and test data."
   ]
  },
  {
   "cell_type": "code",
   "execution_count": 13,
   "metadata": {},
   "outputs": [],
   "source": [
    "rmse1_test = math.sqrt(np.nanmean((rating_test - rating_mean_mat_test)**2))"
   ]
  },
  {
   "cell_type": "code",
   "execution_count": 14,
   "metadata": {},
   "outputs": [
    {
     "name": "stdout",
     "output_type": "stream",
     "text": [
      "1.3373015778814\n"
     ]
    }
   ],
   "source": [
    "print(rmse1_test)"
   ]
  },
  {
   "cell_type": "code",
   "execution_count": 15,
   "metadata": {},
   "outputs": [],
   "source": [
    "rmse1_train = math.sqrt(np.nanmean((rating_train - rating_mean_mat_train)**2))"
   ]
  },
  {
   "cell_type": "code",
   "execution_count": 16,
   "metadata": {},
   "outputs": [
    {
     "name": "stdout",
     "output_type": "stream",
     "text": [
      "1.2867424460430998\n"
     ]
    }
   ],
   "source": [
    "print(rmse1_train)"
   ]
  },
  {
   "cell_type": "markdown",
   "metadata": {},
   "source": [
    "### Calculating the bias for each item."
   ]
  },
  {
   "cell_type": "code",
   "execution_count": 17,
   "metadata": {},
   "outputs": [],
   "source": [
    "bias_movies = np.nanmean(rating_train, axis=0) - training_mean"
   ]
  },
  {
   "cell_type": "code",
   "execution_count": 18,
   "metadata": {},
   "outputs": [
    {
     "name": "stdout",
     "output_type": "stream",
     "text": [
      "[ 0.11396825  0.43619048 -0.13350649 -0.36380952  0.18467532  0.25285714\n",
      " -0.06857143  0.39174603  0.42593407  0.50285714  1.07428571  0.72507937\n",
      " -0.24714286  0.21714286 -0.72791209  0.32103896 -0.83047619 -0.31532468\n",
      "  0.68467532 -0.43831933 -0.10583851 -0.44952381 -0.16380952 -0.24714286\n",
      "  0.13922078]\n"
     ]
    }
   ],
   "source": [
    "print(bias_movies)"
   ]
  },
  {
   "cell_type": "markdown",
   "metadata": {},
   "source": [
    "### Calculate the bias for each user."
   ]
  },
  {
   "cell_type": "code",
   "execution_count": 19,
   "metadata": {},
   "outputs": [],
   "source": [
    "bias_users = np.nanmean(rating_train, axis=1) - training_mean"
   ]
  },
  {
   "cell_type": "code",
   "execution_count": 20,
   "metadata": {},
   "outputs": [
    {
     "name": "stdout",
     "output_type": "stream",
     "text": [
      "[ 0.00285714  0.05285714  0.25285714  0.39759398  0.12190476  0.36\n",
      "  0.39174603  0.32103896 -1.60825397 -0.13350649 -0.72791209  0.20285714\n",
      " -1.49714286  0.16952381  0.10285714  0.83619048 -1.36380952  0.00285714\n",
      "  1.1115528   0.92390977 -2.37214286  0.58981366  0.78285714 -0.96380952\n",
      " -1.76380952]\n"
     ]
    }
   ],
   "source": [
    "print(bias_users)"
   ]
  },
  {
   "cell_type": "markdown",
   "metadata": {},
   "source": [
    "### Calculate the RMSE for the baseline predictors for both your training data and your test data."
   ]
  },
  {
   "cell_type": "markdown",
   "metadata": {},
   "source": [
    "## Baseline Predictor = Raw avg + Bias users + Bias Movies"
   ]
  },
  {
   "cell_type": "code",
   "execution_count": 21,
   "metadata": {},
   "outputs": [],
   "source": [
    "baseline = np.zeros((25, 25))\n",
    "for i in range(len(bias_users)):\n",
    "    for j in range(len(bias_movies)):\n",
    "        baseline[i,j] = training_mean + bias_users[i] + bias_movies[j]\n",
    "        if baseline[i,j] < 1 :\n",
    "            baseline[i,j] = 1\n",
    "        if baseline[i,j] > 5:\n",
    "            baseline[i,j] = 5"
   ]
  },
  {
   "cell_type": "code",
   "execution_count": 22,
   "metadata": {},
   "outputs": [
    {
     "name": "stdout",
     "output_type": "stream",
     "text": [
      "[[3.61396825 3.93619048 3.36649351 3.13619048 3.68467532 3.75285714\n",
      "  3.43142857 3.89174603 3.92593407 4.00285714 4.57428571 4.22507937\n",
      "  3.25285714 3.71714286 2.77208791 3.82103896 2.66952381 3.18467532\n",
      "  4.18467532 3.06168067 3.39416149 3.05047619 3.33619048 3.25285714\n",
      "  3.63922078]\n",
      " [3.66396825 3.98619048 3.41649351 3.18619048 3.73467532 3.80285714\n",
      "  3.48142857 3.94174603 3.97593407 4.05285714 4.62428571 4.27507937\n",
      "  3.30285714 3.76714286 2.82208791 3.87103896 2.71952381 3.23467532\n",
      "  4.23467532 3.11168067 3.44416149 3.10047619 3.38619048 3.30285714\n",
      "  3.68922078]\n",
      " [3.86396825 4.18619048 3.61649351 3.38619048 3.93467532 4.00285714\n",
      "  3.68142857 4.14174603 4.17593407 4.25285714 4.82428571 4.47507937\n",
      "  3.50285714 3.96714286 3.02208791 4.07103896 2.91952381 3.43467532\n",
      "  4.43467532 3.31168067 3.64416149 3.30047619 3.58619048 3.50285714\n",
      "  3.88922078]\n",
      " [4.0087051  4.33092732 3.76123035 3.53092732 4.07941217 4.14759398\n",
      "  3.82616541 4.28648287 4.32067091 4.39759398 4.96902256 4.61981621\n",
      "  3.64759398 4.1118797  3.16682475 4.2157758  3.06426065 3.57941217\n",
      "  4.57941217 3.45641751 3.78889833 3.44521303 3.73092732 3.64759398\n",
      "  4.03395762]\n",
      " [3.73301587 4.0552381  3.48554113 3.2552381  3.80372294 3.87190476\n",
      "  3.55047619 4.01079365 4.04498168 4.12190476 4.69333333 4.34412698\n",
      "  3.37190476 3.83619048 2.89113553 3.94008658 2.78857143 3.30372294\n",
      "  4.30372294 3.18072829 3.51320911 3.16952381 3.4552381  3.37190476\n",
      "  3.7582684 ]\n",
      " [3.97111111 4.29333333 3.72363636 3.49333333 4.04181818 4.11\n",
      "  3.78857143 4.24888889 4.28307692 4.36       4.93142857 4.58222222\n",
      "  3.61       4.07428571 3.12923077 4.17818182 3.02666667 3.54181818\n",
      "  4.54181818 3.41882353 3.75130435 3.40761905 3.69333333 3.61\n",
      "  3.99636364]\n",
      " [4.00285714 4.32507937 3.7553824  3.52507937 4.07356421 4.14174603\n",
      "  3.82031746 4.28063492 4.31482295 4.39174603 4.9631746  4.61396825\n",
      "  3.64174603 4.10603175 3.1609768  4.20992785 3.0584127  3.57356421\n",
      "  4.57356421 3.45056956 3.78305038 3.43936508 3.72507937 3.64174603\n",
      "  4.02810967]\n",
      " [3.93215007 4.25437229 3.68467532 3.45437229 4.00285714 4.07103896\n",
      "  3.74961039 4.20992785 4.24411588 4.32103896 4.89246753 4.54326118\n",
      "  3.57103896 4.03532468 3.09026973 4.13922078 2.98770563 3.50285714\n",
      "  4.50285714 3.37986249 3.71234331 3.36865801 3.65437229 3.57103896\n",
      "  3.9574026 ]\n",
      " [2.00285714 2.32507937 1.7553824  1.52507937 2.07356421 2.14174603\n",
      "  1.82031746 2.28063492 2.31482295 2.39174603 2.9631746  2.61396825\n",
      "  1.64174603 2.10603175 1.1609768  2.20992785 1.0584127  1.57356421\n",
      "  2.57356421 1.45056956 1.78305038 1.43936508 1.72507937 1.64174603\n",
      "  2.02810967]\n",
      " [3.47760462 3.79982684 3.23012987 2.99982684 3.54831169 3.61649351\n",
      "  3.29506494 3.7553824  3.78957043 3.86649351 4.43792208 4.08871573\n",
      "  3.11649351 3.58077922 2.63572428 3.68467532 2.53316017 3.04831169\n",
      "  4.04831169 2.92531704 3.25779785 2.91411255 3.19982684 3.11649351\n",
      "  3.50285714]\n",
      " [2.88319902 3.20542125 2.63572428 2.40542125 2.95390609 3.02208791\n",
      "  2.70065934 3.1609768  3.19516484 3.27208791 3.84351648 3.49431013\n",
      "  2.52208791 2.98637363 2.04131868 3.09026973 1.93875458 2.45390609\n",
      "  3.45390609 2.33091144 2.66339226 2.31970696 2.60542125 2.52208791\n",
      "  2.90845155]\n",
      " [3.81396825 4.13619048 3.56649351 3.33619048 3.88467532 3.95285714\n",
      "  3.63142857 4.09174603 4.12593407 4.20285714 4.77428571 4.42507937\n",
      "  3.45285714 3.91714286 2.97208791 4.02103896 2.86952381 3.38467532\n",
      "  4.38467532 3.26168067 3.59416149 3.25047619 3.53619048 3.45285714\n",
      "  3.83922078]\n",
      " [2.11396825 2.43619048 1.86649351 1.63619048 2.18467532 2.25285714\n",
      "  1.93142857 2.39174603 2.42593407 2.50285714 3.07428571 2.72507937\n",
      "  1.75285714 2.21714286 1.27208791 2.32103896 1.16952381 1.68467532\n",
      "  2.68467532 1.56168067 1.89416149 1.55047619 1.83619048 1.75285714\n",
      "  2.13922078]\n",
      " [3.78063492 4.10285714 3.53316017 3.30285714 3.85134199 3.91952381\n",
      "  3.59809524 4.0584127  4.09260073 4.16952381 4.74095238 4.39174603\n",
      "  3.41952381 3.88380952 2.93875458 3.98770563 2.83619048 3.35134199\n",
      "  4.35134199 3.22834734 3.56082816 3.21714286 3.50285714 3.41952381\n",
      "  3.80588745]\n",
      " [3.71396825 4.03619048 3.46649351 3.23619048 3.78467532 3.85285714\n",
      "  3.53142857 3.99174603 4.02593407 4.10285714 4.67428571 4.32507937\n",
      "  3.35285714 3.81714286 2.87208791 3.92103896 2.76952381 3.28467532\n",
      "  4.28467532 3.16168067 3.49416149 3.15047619 3.43619048 3.35285714\n",
      "  3.73922078]\n",
      " [4.44730159 4.76952381 4.19982684 3.96952381 4.51800866 4.58619048\n",
      "  4.2647619  4.72507937 4.7592674  4.83619048 5.         5.\n",
      "  4.08619048 4.55047619 3.60542125 4.65437229 3.50285714 4.01800866\n",
      "  5.         3.89501401 4.22749482 3.88380952 4.16952381 4.08619048\n",
      "  4.47255411]\n",
      " [2.24730159 2.56952381 1.99982684 1.76952381 2.31800866 2.38619048\n",
      "  2.0647619  2.52507937 2.5592674  2.63619048 3.20761905 2.8584127\n",
      "  1.88619048 2.35047619 1.40542125 2.45437229 1.30285714 1.81800866\n",
      "  2.81800866 1.69501401 2.02749482 1.68380952 1.96952381 1.88619048\n",
      "  2.27255411]\n",
      " [3.61396825 3.93619048 3.36649351 3.13619048 3.68467532 3.75285714\n",
      "  3.43142857 3.89174603 3.92593407 4.00285714 4.57428571 4.22507937\n",
      "  3.25285714 3.71714286 2.77208791 3.82103896 2.66952381 3.18467532\n",
      "  4.18467532 3.06168067 3.39416149 3.05047619 3.33619048 3.25285714\n",
      "  3.63922078]\n",
      " [4.72266391 5.         4.47518916 4.24488613 4.79337098 4.8615528\n",
      "  4.54012422 5.         5.         5.         5.         5.\n",
      "  4.3615528  4.82583851 3.88078356 4.92973461 3.77821946 4.29337098\n",
      "  5.         4.17037632 4.50285714 4.15917184 4.44488613 4.3615528\n",
      "  4.74791643]\n",
      " [4.53502089 4.85724311 4.28754614 4.05724311 4.60572796 4.67390977\n",
      "  4.3524812  4.81279866 4.8469867  4.92390977 5.         5.\n",
      "  4.17390977 4.63819549 3.69314054 4.74209159 3.59057644 4.10572796\n",
      "  5.         3.9827333  4.31521412 3.97152882 4.25724311 4.17390977\n",
      "  4.56027341]\n",
      " [1.23896825 1.56119048 1.         1.         1.30967532 1.37785714\n",
      "  1.05642857 1.51674603 1.55093407 1.62785714 2.19928571 1.85007937\n",
      "  1.         1.34214286 1.         1.44603896 1.         1.\n",
      "  1.80967532 1.         1.01916149 1.         1.         1.\n",
      "  1.26422078]\n",
      " [4.20092478 4.523147   3.95345003 3.723147   4.27163185 4.33981366\n",
      "  4.01838509 4.47870255 4.51289059 4.58981366 5.         4.81203589\n",
      "  3.83981366 4.30409938 3.35904443 4.40799548 3.25648033 3.77163185\n",
      "  4.77163185 3.64863719 3.98111801 3.63743271 3.923147   3.83981366\n",
      "  4.2261773 ]\n",
      " [4.39396825 4.71619048 4.14649351 3.91619048 4.46467532 4.53285714\n",
      "  4.21142857 4.67174603 4.70593407 4.78285714 5.         5.\n",
      "  4.03285714 4.49714286 3.55208791 4.60103896 3.44952381 3.96467532\n",
      "  4.96467532 3.84168067 4.17416149 3.83047619 4.11619048 4.03285714\n",
      "  4.41922078]\n",
      " [2.64730159 2.96952381 2.39982684 2.16952381 2.71800866 2.78619048\n",
      "  2.4647619  2.92507937 2.9592674  3.03619048 3.60761905 3.2584127\n",
      "  2.28619048 2.75047619 1.80542125 2.85437229 1.70285714 2.21800866\n",
      "  3.21800866 2.09501401 2.42749482 2.08380952 2.36952381 2.28619048\n",
      "  2.67255411]\n",
      " [1.84730159 2.16952381 1.59982684 1.36952381 1.91800866 1.98619048\n",
      "  1.6647619  2.12507937 2.1592674  2.23619048 2.80761905 2.4584127\n",
      "  1.48619048 1.95047619 1.00542125 2.05437229 1.         1.41800866\n",
      "  2.41800866 1.29501401 1.62749482 1.28380952 1.56952381 1.48619048\n",
      "  1.87255411]]\n"
     ]
    }
   ],
   "source": [
    " print(baseline)\n",
    "baseline_predictor = baseline.copy()"
   ]
  },
  {
   "cell_type": "code",
   "execution_count": 23,
   "metadata": {},
   "outputs": [],
   "source": [
    "rmse2_test = math.sqrt(np.nanmean((rating_test - baseline[5:16, 5:16])**2))"
   ]
  },
  {
   "cell_type": "code",
   "execution_count": 24,
   "metadata": {},
   "outputs": [
    {
     "name": "stdout",
     "output_type": "stream",
     "text": [
      "1.0177378348800252\n"
     ]
    }
   ],
   "source": [
    "print(rmse2_test)"
   ]
  },
  {
   "cell_type": "code",
   "execution_count": 25,
   "metadata": {},
   "outputs": [],
   "source": [
    "rmse2_train = math.sqrt(np.nanmean((rating_train - baseline)**2))"
   ]
  },
  {
   "cell_type": "code",
   "execution_count": 26,
   "metadata": {},
   "outputs": [
    {
     "name": "stdout",
     "output_type": "stream",
     "text": [
      "0.9139315000290194\n"
     ]
    }
   ],
   "source": [
    "print(rmse2_train)"
   ]
  },
  {
   "cell_type": "markdown",
   "metadata": {},
   "source": [
    "### mesure of improvement"
   ]
  },
  {
   "cell_type": "code",
   "execution_count": 27,
   "metadata": {},
   "outputs": [
    {
     "name": "stdout",
     "output_type": "stream",
     "text": [
      "-0.2389616136605767\n"
     ]
    }
   ],
   "source": [
    "print((rmse2_test - rmse1_test)/rmse1_test)"
   ]
  },
  {
   "cell_type": "markdown",
   "metadata": {},
   "source": [
    "### There is an improvement of 24% on the test set from the raw average model to the Baseline Model"
   ]
  },
  {
   "cell_type": "code",
   "execution_count": 28,
   "metadata": {},
   "outputs": [
    {
     "name": "stdout",
     "output_type": "stream",
     "text": [
      "-0.28973237586163614\n"
     ]
    }
   ],
   "source": [
    "print((rmse2_train - rmse1_train)/rmse1_train)"
   ]
  },
  {
   "cell_type": "markdown",
   "metadata": {},
   "source": [
    "### There is an improvement of 29% on the train set from raw average model to Baseline Model"
   ]
  },
  {
   "cell_type": "markdown",
   "metadata": {},
   "source": [
    "## Similarity"
   ]
  },
  {
   "cell_type": "markdown",
   "metadata": {},
   "source": [
    "### Calculate on baseline errors = Actual Values - Predictions"
   ]
  },
  {
   "cell_type": "code",
   "execution_count": 29,
   "metadata": {},
   "outputs": [],
   "source": [
    "baseline_error = rating_train - baseline"
   ]
  },
  {
   "cell_type": "code",
   "execution_count": 30,
   "metadata": {},
   "outputs": [
    {
     "data": {
      "text/plain": [
       "array([[            nan,             nan, -1.36649351e+00,\n",
       "                    nan,  1.31532468e+00,  2.47142857e-01,\n",
       "                    nan,             nan,  7.40659341e-02,\n",
       "                    nan,             nan,             nan,\n",
       "                    nan,             nan, -7.72087912e-01,\n",
       "                    nan,             nan,  8.15324675e-01,\n",
       "        -1.18467532e+00,             nan,             nan,\n",
       "        -1.05047619e+00,  1.66380952e+00,             nan,\n",
       "         3.60779221e-01],\n",
       "       [ 3.36031746e-01,  1.01380952e+00,  1.58350649e+00,\n",
       "         8.13809524e-01, -1.73467532e+00,             nan,\n",
       "         5.18571429e-01, -9.41746032e-01,             nan,\n",
       "        -1.05285714e+00,  3.75714286e-01, -2.75079365e-01,\n",
       "         6.97142857e-01,  2.32857143e-01, -1.82208791e+00,\n",
       "         1.12896104e+00,             nan,             nan,\n",
       "        -2.34675325e-01, -1.11680672e-01, -1.44416149e+00,\n",
       "        -2.10047619e+00,  6.13809524e-01,             nan,\n",
       "         3.10779221e-01],\n",
       "       [ 1.13603175e+00,             nan,             nan,\n",
       "                    nan,  1.06532468e+00, -2.85714286e-03,\n",
       "                    nan, -3.14174603e+00,  8.24065934e-01,\n",
       "         7.47142857e-01,             nan,             nan,\n",
       "                    nan,             nan,  1.97791209e+00,\n",
       "                    nan,             nan, -4.34675325e-01,\n",
       "                    nan, -3.11680672e-01, -6.44161491e-01,\n",
       "        -2.30047619e+00,             nan,             nan,\n",
       "         1.11077922e+00],\n",
       "       [-8.70509607e-03,             nan,  1.23876965e+00,\n",
       "                    nan, -7.94121668e-02, -1.47593985e-01,\n",
       "        -8.26165414e-01, -2.86482874e-01, -3.20670908e-01,\n",
       "                    nan, -1.96902256e+00, -6.19816207e-01,\n",
       "        -6.47593985e-01, -1.11879699e-01, -1.16682475e+00,\n",
       "         7.84224197e-01,             nan,  4.20587833e-01,\n",
       "                    nan, -4.56417514e-01,  2.11101667e-01,\n",
       "         1.55478697e+00,  1.26907268e+00,             nan,\n",
       "        -3.39576213e-02],\n",
       "       [ 1.26698413e+00, -5.52380952e-02, -4.85541126e-01,\n",
       "        -1.25523810e+00,  1.96277056e-01,             nan,\n",
       "         4.49523810e-01,  9.89206349e-01, -1.04498168e+00,\n",
       "        -1.21904762e-01,  3.06666667e-01,  6.55873016e-01,\n",
       "        -3.71904762e-01, -8.36190476e-01,  1.08864469e-01,\n",
       "        -9.40086580e-01,             nan, -3.03722944e-01,\n",
       "                    nan,  8.19271709e-01, -5.13209110e-01,\n",
       "         8.30476190e-01, -4.55238095e-01,             nan,\n",
       "        -7.58268398e-01],\n",
       "       [ 2.88888889e-02,  7.06666667e-01,  2.76363636e-01,\n",
       "        -4.93333333e-01, -1.04181818e+00,             nan,\n",
       "                    nan,             nan,             nan,\n",
       "                    nan,             nan,             nan,\n",
       "                    nan,             nan,             nan,\n",
       "                    nan,  9.73333333e-01,  1.45818182e+00,\n",
       "        -5.41818182e-01,  5.81176471e-01,  1.24869565e+00,\n",
       "         5.92380952e-01, -2.69333333e+00,  3.90000000e-01,\n",
       "         3.63636364e-03],\n",
       "       [            nan,  6.74920635e-01,  1.24461760e+00,\n",
       "                    nan, -7.35642136e-02,             nan,\n",
       "                    nan,             nan,             nan,\n",
       "                    nan,             nan,             nan,\n",
       "                    nan,             nan,             nan,\n",
       "                    nan,             nan, -5.73564214e-01,\n",
       "        -5.73564214e-01,             nan, -7.83050380e-01,\n",
       "        -4.39365079e-01,  2.74920635e-01,             nan,\n",
       "        -2.81096681e-02],\n",
       "       [            nan,  7.45627706e-01,  3.15324675e-01,\n",
       "                    nan, -2.85714286e-03,             nan,\n",
       "                    nan,             nan,             nan,\n",
       "                    nan,             nan,             nan,\n",
       "                    nan,             nan,             nan,\n",
       "                    nan,             nan,  1.49714286e+00,\n",
       "         4.97142857e-01, -3.79862490e-01, -1.71234331e+00,\n",
       "         6.31341991e-01, -1.65437229e+00, -5.71038961e-01,\n",
       "         1.04259740e+00],\n",
       "       [-2.85714286e-03,             nan,  1.24461760e+00,\n",
       "         3.47492063e+00, -7.35642136e-02,             nan,\n",
       "                    nan,             nan,             nan,\n",
       "                    nan,             nan,             nan,\n",
       "                    nan,             nan,             nan,\n",
       "                    nan,             nan,             nan,\n",
       "                    nan, -4.50569561e-01, -7.83050380e-01,\n",
       "        -4.39365079e-01,             nan, -6.41746032e-01,\n",
       "        -1.02810967e+00],\n",
       "       [ 5.22395382e-01,  2.00173160e-01, -2.30129870e-01,\n",
       "        -9.99826840e-01,             nan,             nan,\n",
       "                    nan,             nan,             nan,\n",
       "                    nan,             nan,             nan,\n",
       "                    nan,             nan,             nan,\n",
       "                    nan, -1.53316017e+00,  9.51688312e-01,\n",
       "                    nan,             nan,  1.74220215e+00,\n",
       "         8.58874459e-02,  1.80017316e+00, -1.16493506e-01,\n",
       "        -5.02857143e-01],\n",
       "       [ 1.16800977e-01,  7.94578755e-01, -1.63572428e+00,\n",
       "        -1.40542125e+00,  2.04609391e+00,             nan,\n",
       "                    nan,             nan,             nan,\n",
       "                    nan,             nan,             nan,\n",
       "                    nan,             nan,             nan,\n",
       "                    nan,  1.06124542e+00, -1.45390609e+00,\n",
       "                    nan, -3.30911441e-01,  2.33660774e+00,\n",
       "         1.68029304e+00, -6.05421245e-01, -5.22087912e-01,\n",
       "         9.15484515e-02],\n",
       "       [-8.13968254e-01,             nan,  4.33506494e-01,\n",
       "         1.66380952e+00,  1.11532468e+00,             nan,\n",
       "                    nan,             nan,             nan,\n",
       "                    nan,             nan,             nan,\n",
       "                    nan,             nan,             nan,\n",
       "                    nan,             nan,  6.15324675e-01,\n",
       "                    nan, -2.61680672e-01, -5.94161491e-01,\n",
       "         1.74952381e+00,             nan, -1.45285714e+00,\n",
       "        -8.39220779e-01],\n",
       "       [            nan,             nan, -8.66493506e-01,\n",
       "        -6.36190476e-01,             nan,             nan,\n",
       "                    nan,             nan,             nan,\n",
       "                    nan,             nan,             nan,\n",
       "                    nan,             nan,             nan,\n",
       "                    nan,             nan, -6.84675325e-01,\n",
       "                    nan,             nan,             nan,\n",
       "                    nan,             nan,             nan,\n",
       "         2.86077922e+00],\n",
       "       [            nan,             nan,  4.66839827e-01,\n",
       "                    nan,  1.48658009e-01,             nan,\n",
       "                    nan,             nan,             nan,\n",
       "                    nan,             nan,             nan,\n",
       "                    nan,             nan,             nan,\n",
       "                    nan,             nan,  1.64865801e+00,\n",
       "                    nan,  7.71652661e-01, -5.60828157e-01,\n",
       "        -2.17142857e-01, -5.02857143e-01,  5.80476190e-01,\n",
       "        -8.05887446e-01],\n",
       "       [            nan, -3.61904762e-02,             nan,\n",
       "                    nan,  1.21532468e+00,             nan,\n",
       "                    nan,             nan,             nan,\n",
       "                    nan,             nan,             nan,\n",
       "                    nan,             nan,             nan,\n",
       "                    nan,             nan, -1.28467532e+00,\n",
       "                    nan,             nan,  5.05838509e-01,\n",
       "        -1.50476190e-01,             nan,             nan,\n",
       "                    nan],\n",
       "       [ 5.52698413e-01,             nan,  8.00173160e-01,\n",
       "                    nan,             nan,             nan,\n",
       "                    nan,             nan,             nan,\n",
       "                    nan,             nan,             nan,\n",
       "                    nan,             nan,             nan,\n",
       "                    nan,             nan, -1.80086580e-02,\n",
       "                    nan, -1.89501401e+00,  7.72505176e-01,\n",
       "         1.11619048e+00,             nan,             nan,\n",
       "                    nan],\n",
       "       [ 1.75269841e+00, -1.56952381e+00,  1.73160173e-04,\n",
       "                    nan,  1.68199134e+00,             nan,\n",
       "                    nan,             nan,  4.40732601e-01,\n",
       "        -6.36190476e-01,             nan,             nan,\n",
       "        -8.86190476e-01,             nan,  1.59457875e+00,\n",
       "                    nan, -3.02857143e-01,  1.18199134e+00,\n",
       "                    nan,  3.04985994e-01, -1.02749482e+00,\n",
       "         3.16190476e-01,             nan,  1.13809524e-01,\n",
       "        -1.27255411e+00],\n",
       "       [ 3.86031746e-01, -9.36190476e-01,  6.33506494e-01,\n",
       "         8.63809524e-01,  1.31532468e+00, -7.52857143e-01,\n",
       "                    nan,  1.08253968e-01,  7.40659341e-02,\n",
       "        -2.85714286e-03,  4.25714286e-01, -1.22507937e+00,\n",
       "         7.47142857e-01, -7.17142857e-01, -7.72087912e-01,\n",
       "        -8.21038961e-01,  3.30476190e-01, -1.18467532e+00,\n",
       "        -1.84675325e-01, -6.16806723e-02,  1.60583851e+00,\n",
       "        -1.05047619e+00, -3.36190476e-01, -2.52857143e-01,\n",
       "         3.60779221e-01],\n",
       "       [ 2.77336094e-01,  0.00000000e+00, -4.75189159e-01,\n",
       "         7.55113872e-01,  2.06629023e-01, -1.86155280e+00,\n",
       "        -1.54012422e+00,  0.00000000e+00,  0.00000000e+00,\n",
       "         0.00000000e+00,  0.00000000e+00,  0.00000000e+00,\n",
       "        -3.61552795e-01, -1.82583851e+00,  1.19216436e-01,\n",
       "         7.02653868e-02,             nan,  7.06629023e-01,\n",
       "         0.00000000e+00,             nan,  4.97142857e-01,\n",
       "         8.40828157e-01,  5.55113872e-01,  6.38447205e-01,\n",
       "         2.52083569e-01],\n",
       "       [-5.35020886e-01,  1.42756892e-01,  7.12453862e-01,\n",
       "        -5.72431078e-02, -6.05727956e-01,             nan,\n",
       "                    nan, -8.12798663e-01, -8.46986698e-01,\n",
       "         7.60902256e-02,             nan,  0.00000000e+00,\n",
       "         8.26090226e-01,             nan, -6.93140544e-01,\n",
       "         2.57908407e-01,             nan, -1.05727956e-01,\n",
       "        -1.00000000e+00,  1.72666962e-02,  6.84785878e-01,\n",
       "                    nan, -2.57243108e-01,  8.26090226e-01,\n",
       "         4.39726589e-01],\n",
       "       [-2.38968254e-01,             nan,             nan,\n",
       "                    nan, -3.09675325e-01,             nan,\n",
       "                    nan,             nan,  4.49065934e-01,\n",
       "                    nan,             nan,             nan,\n",
       "         0.00000000e+00,             nan,  0.00000000e+00,\n",
       "        -4.46038961e-01,             nan,             nan,\n",
       "                    nan,             nan, -1.91614907e-02,\n",
       "                    nan,  0.00000000e+00,             nan,\n",
       "                    nan],\n",
       "       [-1.20092478e+00, -5.23146998e-01, -9.53450028e-01,\n",
       "         1.27685300e+00, -2.71631846e-01, -3.39813665e-01,\n",
       "        -1.83850932e-02, -4.78702553e-01,  4.87109412e-01,\n",
       "        -5.89813665e-01, -1.00000000e+00,  1.87964113e-01,\n",
       "         1.60186335e-01, -3.04099379e-01,  6.40955566e-01,\n",
       "         5.92004517e-01,             nan, -1.77163185e+00,\n",
       "         2.28368154e-01,  1.35136281e+00,  1.88819876e-02,\n",
       "        -1.63743271e+00,  1.07685300e+00,             nan,\n",
       "         7.73822699e-01],\n",
       "       [-3.93968254e-01, -1.71619048e+00, -1.14649351e+00,\n",
       "         8.38095238e-02, -4.64675325e-01,  4.67142857e-01,\n",
       "        -2.11428571e-01,  3.28253968e-01,  2.94065934e-01,\n",
       "         2.17142857e-01,  0.00000000e+00,  0.00000000e+00,\n",
       "        -3.28571429e-02,  5.02857143e-01, -5.52087912e-01,\n",
       "        -6.01038961e-01,  5.50476190e-01,  3.53246753e-02,\n",
       "        -9.64675325e-01,  1.58319328e-01,  8.25838509e-01,\n",
       "         1.69523810e-01, -1.16190476e-01,  9.67142857e-01,\n",
       "         5.80779221e-01],\n",
       "       [            nan, -9.69523810e-01,  6.00173160e-01,\n",
       "        -1.16952381e+00, -1.71800866e+00,             nan,\n",
       "        -4.64761905e-01,             nan,  1.04073260e+00,\n",
       "        -3.61904762e-02,             nan,             nan,\n",
       "         1.71380952e+00,             nan,  1.19457875e+00,\n",
       "         1.14562771e+00,             nan, -1.21800866e+00,\n",
       "         7.81991342e-01,             nan, -4.27494824e-01,\n",
       "                    nan, -3.69523810e-01,             nan,\n",
       "        -6.72554113e-01],\n",
       "       [-8.47301587e-01,             nan, -5.99826840e-01,\n",
       "        -3.69523810e-01, -9.18008658e-01,  1.01380952e+00,\n",
       "                    nan,             nan,  8.40732601e-01,\n",
       "                    nan,             nan, -4.58412698e-01,\n",
       "         5.13809524e-01,             nan,             nan,\n",
       "        -5.43722944e-02,             nan, -4.18008658e-01,\n",
       "                    nan,  7.04985994e-01,  3.72505176e-01,\n",
       "        -2.83809524e-01,  4.30476190e-01,             nan,\n",
       "         1.27445887e-01]])"
      ]
     },
     "execution_count": 30,
     "metadata": {},
     "output_type": "execute_result"
    }
   ],
   "source": [
    "baseline_error"
   ]
  },
  {
   "cell_type": "markdown",
   "metadata": {},
   "source": [
    "#### Center at zero"
   ]
  },
  {
   "cell_type": "code",
   "execution_count": 31,
   "metadata": {},
   "outputs": [],
   "source": [
    "center_rating = rating_train -  np.nanmean(rating_train, axis=1)"
   ]
  },
  {
   "cell_type": "code",
   "execution_count": null,
   "metadata": {},
   "outputs": [],
   "source": []
  },
  {
   "cell_type": "markdown",
   "metadata": {},
   "source": [
    "#### Correct for errors"
   ]
  },
  {
   "cell_type": "code",
   "execution_count": 32,
   "metadata": {},
   "outputs": [],
   "source": [
    "def similarity(a, j, k):\n",
    "    num = 0\n",
    "    dena = 0\n",
    "    denb = 0\n",
    "    for i in range(a.shape[0]):\n",
    "        if (not(np.isnan(a[i,j]))  and not(np.isnan(a[i,k]))):\n",
    "            num = num + a[i, j]*a[i, k]\n",
    "            dena = dena + a[i, j]**2\n",
    "            denb = denb + a[i, k]**2\n",
    "    dena = math.sqrt(dena)\n",
    "    denb = math.sqrt(denb)\n",
    "    return num/(dena*denb)\n"
   ]
  },
  {
   "cell_type": "code",
   "execution_count": 33,
   "metadata": {},
   "outputs": [
    {
     "data": {
      "text/plain": [
       "0.27253237978311184"
      ]
     },
     "execution_count": 33,
     "metadata": {},
     "output_type": "execute_result"
    }
   ],
   "source": [
    "similarity(baseline_error, 2, 1)"
   ]
  },
  {
   "cell_type": "code",
   "execution_count": 34,
   "metadata": {},
   "outputs": [
    {
     "data": {
      "text/plain": [
       "array([  nan,  1.45,   nan,   nan,  0.45,  1.45,  1.45,  1.45,   nan,\n",
       "        0.45,  0.45,   nan,   nan,   nan,  0.45,   nan, -2.55, -0.55,\n",
       "        1.45,  1.45,   nan,  0.45, -0.55, -1.55,   nan])"
      ]
     },
     "execution_count": 34,
     "metadata": {},
     "output_type": "execute_result"
    }
   ],
   "source": [
    "center_rating[:,1]"
   ]
  },
  {
   "cell_type": "code",
   "execution_count": 35,
   "metadata": {},
   "outputs": [
    {
     "data": {
      "text/plain": [
       "array([-1.75,  1.25,   nan,  1.25, -0.75,  0.25,  1.25,  0.25, -0.75,\n",
       "       -0.75, -2.75,  0.25, -2.75,  0.25,   nan,  1.25, -1.75,  0.25,\n",
       "        0.25,  1.25,   nan, -0.75, -0.75, -0.75, -2.75])"
      ]
     },
     "execution_count": 35,
     "metadata": {},
     "output_type": "execute_result"
    }
   ],
   "source": [
    "center_rating[:,2]"
   ]
  },
  {
   "cell_type": "code",
   "execution_count": 36,
   "metadata": {},
   "outputs": [
    {
     "name": "stdout",
     "output_type": "stream",
     "text": [
      "yes\n"
     ]
    }
   ],
   "source": [
    "if (np.isnan(center_rating[0,1])):\n",
    "    print(\"yes\")"
   ]
  },
  {
   "cell_type": "code",
   "execution_count": 37,
   "metadata": {},
   "outputs": [],
   "source": [
    "similarity_matrix = np.zeros((25,25))\n",
    "for j in range(baseline_error.shape[1]):\n",
    "    for k in range(baseline_error.shape[1]):\n",
    "        similarity_matrix[j,k] = similarity(baseline_error, j, k)\n",
    "        "
   ]
  },
  {
   "cell_type": "code",
   "execution_count": 38,
   "metadata": {},
   "outputs": [
    {
     "data": {
      "text/plain": [
       "array([[ 1.        , -0.17570406,  0.14107735, -0.3582204 ,  0.42106527,\n",
       "        -0.31694546,  0.12332678, -0.21073644, -0.10913399, -0.04288478,\n",
       "         0.43816879,  0.12528301, -0.51255443, -0.38090409,  0.39967416,\n",
       "        -0.3487985 , -0.29864317,  0.29413255,  0.20713023, -0.22776867,\n",
       "        -0.12758921, -0.01941303, -0.12183766,  0.10872387, -0.32553925],\n",
       "       [-0.17570406,  1.        ,  0.27253238, -0.15024941, -0.16775865,\n",
       "         0.01912833,  0.32986749, -0.4002889 , -0.51148796, -0.01910686,\n",
       "         0.18130807,  0.22625098, -0.02173335,  0.04959253, -0.48479461,\n",
       "         0.29451942,  0.0734775 ,  0.16501904,  0.03288858, -0.30890833,\n",
       "        -0.06444653,  0.07204456, -0.18679371, -0.43182568,  0.27058357],\n",
       "       [ 0.14107735,  0.27253238,  1.        ,  0.47204873, -0.40191285,\n",
       "        -0.15497579,  0.05642682, -0.58019636, -0.21505412, -0.3579166 ,\n",
       "        -0.12534552, -0.4796522 ,  0.31670355,  0.12830474, -0.34736775,\n",
       "         0.5421475 , -0.32539894,  0.20755558,  0.15317336, -0.40916038,\n",
       "        -0.43460348, -0.09789984, -0.12049779, -0.20603402, -0.32068861],\n",
       "       [-0.3582204 , -0.15024941,  0.47204873,  1.        ,  0.04490754,\n",
       "        -0.69204506, -0.18900138, -0.63444803,  0.11148811, -0.44347985,\n",
       "        -0.36444822, -0.48944016, -0.10703384, -0.21808942, -0.42377753,\n",
       "         0.1415648 , -0.02445471,  0.08319128, -0.18494022, -0.16769586,\n",
       "        -0.36830964, -0.32691662,  0.28011814, -0.37311236, -0.16570317],\n",
       "       [ 0.42106527, -0.16775865, -0.40191285,  0.04490754,  1.        ,\n",
       "        -0.37276023, -0.03311875, -0.09596728, -0.10448851,  0.28811256,\n",
       "         0.07616892, -0.14361148, -0.65013483, -0.40315427,  0.30880725,\n",
       "        -0.69341581,  0.16248287, -0.04850484, -0.15297254, -0.22431026,\n",
       "         0.25240479,  0.1965637 ,  0.13171791, -0.47877135, -0.08260093],\n",
       "       [-0.31694546,  0.01912833, -0.15497579, -0.69204506, -0.37276023,\n",
       "         1.        ,  0.84165316,  0.04250659,  0.26318856,  0.14797632,\n",
       "         0.06578736,  0.14283791,  0.23878226,  0.99948158, -0.02485307,\n",
       "        -0.05017572,  0.0146776 , -0.01506489, -0.20834955,  0.1951072 ,\n",
       "        -0.29830106, -0.10605781, -0.09301207, -0.22341756, -0.13814946],\n",
       "       [ 0.12332678,  0.32986749,  0.05642682, -0.18900138, -0.03311875,\n",
       "         0.84165316,  1.        ,  0.04635559, -0.25110387, -0.28501488,\n",
       "         0.46292495,  0.36353749,  0.12471374,  0.63972946, -0.11109652,\n",
       "        -0.2367325 , -1.        , -0.22527938, -0.13044165,  0.34695448,\n",
       "        -0.52036317, -0.52828632, -0.42459831, -0.65930661, -0.12844595],\n",
       "       [-0.21073644, -0.4002889 , -0.58019636, -0.63444803, -0.09596728,\n",
       "         0.04250659,  0.04635559,  1.        , -0.50311693, -0.23000343,\n",
       "         0.297852  ,  0.32214486, -0.56454924, -0.23156253, -0.35169656,\n",
       "        -0.84737897,  0.975433  ,  0.21720033,  0.29657159,  0.23341549,\n",
       "         0.28886162,  0.70981771, -0.52512157, -0.29870326, -0.78007565],\n",
       "       [-0.10913399, -0.51148796, -0.21505412,  0.11148811, -0.10448851,\n",
       "         0.26318856, -0.25110387, -0.50311693,  1.        ,  0.05759755,\n",
       "        -0.05161317, -0.31707328,  0.35977376,  0.31319016,  0.62222805,\n",
       "         0.34701224,  0.13922173, -0.30658475,  0.4727091 ,  0.12336824,\n",
       "        -0.15516965, -0.64170576,  0.16160499, -0.26426437,  0.154836  ],\n",
       "       [-0.04288478, -0.01910686, -0.3579166 , -0.44347985,  0.28811256,\n",
       "         0.14797632, -0.28501488, -0.23000343,  0.05759755,  1.        ,\n",
       "         0.10612737,  0.05798763, -0.06840323,  0.05377291,  0.31214453,\n",
       "        -0.57377441,  0.65224158,  0.01553635, -0.09980725, -0.44921644,\n",
       "         0.44582255,  0.19593037, -0.65921877,  0.20509785,  0.31147464],\n",
       "       [ 0.43816879,  0.18130807, -0.12534552, -0.36444822,  0.07616892,\n",
       "         0.06578736,  0.46292495,  0.297852  , -0.05161317,  0.10612737,\n",
       "         1.        ,  0.16985759,  0.51802363,  0.00978814,  0.11987458,\n",
       "        -0.50049859,  0.51471387,  0.06613998, -0.33190019, -0.0707103 ,\n",
       "        -0.08066992, -0.30134447, -0.81006324, -0.21317732, -0.21662424],\n",
       "       [ 0.12528301,  0.22625098, -0.4796522 , -0.48944016, -0.14361148,\n",
       "         0.14283791,  0.36353749,  0.32214486, -0.31707328,  0.05798763,\n",
       "         0.16985759,  1.        , -0.43246487,  0.08021785,  0.59484776,\n",
       "        -0.08116854, -0.51471387,  0.22655661,  0.18261586,  0.29315497,\n",
       "        -0.53219932,  0.22432855, -0.25648545,  0.17493249, -0.39802819],\n",
       "       [-0.51255443, -0.02173335,  0.31670355, -0.10703384, -0.65013483,\n",
       "         0.23878226,  0.12471374, -0.56454924,  0.35977376, -0.06840323,\n",
       "         0.51802363, -0.43246487,  1.        ,  0.2047712 , -0.12356827,\n",
       "         0.39570864,  0.60400902, -0.71173614,  0.0780651 ,  0.05507081,\n",
       "         0.13861964, -0.77883128, -0.23168704,  0.06105471,  0.23572294],\n",
       "       [-0.38090409,  0.04959253,  0.12830474, -0.21808942, -0.40315427,\n",
       "         0.99948158,  0.63972946, -0.23156253,  0.31319016,  0.05377291,\n",
       "         0.00978814,  0.08021785,  0.2047712 ,  1.        , -0.09540929,\n",
       "         0.20673798,  0.07079452,  0.06324374, -0.22342762, -0.44819059,\n",
       "        -0.29214959, -0.20139457, -0.17918922, -0.20734159,  0.0160406 ],\n",
       "       [ 0.39967416, -0.48479461, -0.34736775, -0.42377753,  0.30880725,\n",
       "        -0.02485307, -0.11109652, -0.35169656,  0.62222805,  0.31214453,\n",
       "         0.11987458,  0.59484776, -0.12356827, -0.09540929,  1.        ,\n",
       "        -0.07872485, -0.79097311, -0.162145  ,  0.7013428 ,  0.24483351,\n",
       "        -0.29723098, -0.08758334, -0.41057197, -0.22719363, -0.21079452],\n",
       "       [-0.3487985 ,  0.29451942,  0.5421475 ,  0.1415648 , -0.69341581,\n",
       "        -0.05017572, -0.2367325 , -0.84737897,  0.34701224, -0.57377441,\n",
       "        -0.50049859, -0.08116854,  0.39570864,  0.20673798, -0.07872485,\n",
       "         1.        , -0.9217563 , -0.1524121 ,  0.37629849, -0.1437884 ,\n",
       "        -0.49606321, -0.29085927,  0.53596207, -0.07612901,  0.05506684],\n",
       "       [-0.29864317,  0.0734775 , -0.32539894, -0.02445471,  0.16248287,\n",
       "         0.0146776 , -1.        ,  0.975433  ,  0.13922173,  0.65224158,\n",
       "         0.51471387, -0.51471387,  0.60400902,  0.07079452, -0.79097311,\n",
       "        -0.9217563 ,  1.        , -0.36954946, -0.85585909,  0.15595913,\n",
       "         0.27574204,  0.40277272, -0.85036793,  0.15652781,  0.49856423],\n",
       "       [ 0.29413255,  0.16501904,  0.20755558,  0.08319128, -0.04850484,\n",
       "        -0.01506489, -0.22527938,  0.21720033, -0.30658475,  0.01553635,\n",
       "         0.06613998,  0.22655661, -0.71173614,  0.06324374, -0.162145  ,\n",
       "        -0.1524121 , -0.36954946,  1.        , -0.22906079, -0.05636652,\n",
       "        -0.28130503,  0.29998001, -0.1866479 ,  0.14680502, -0.28437232],\n",
       "       [ 0.20713023,  0.03288858,  0.15317336, -0.18494022, -0.15297254,\n",
       "        -0.20834955, -0.13044165,  0.29657159,  0.4727091 , -0.09980725,\n",
       "        -0.33190019,  0.18261586,  0.0780651 , -0.22342762,  0.7013428 ,\n",
       "         0.37629849, -0.85585909, -0.22906079,  1.        , -0.13218406,\n",
       "        -0.44844099,  0.27043413, -0.14464813, -0.87039517, -0.35356273],\n",
       "       [-0.22776867, -0.30890833, -0.40916038, -0.16769586, -0.22431026,\n",
       "         0.1951072 ,  0.34695448,  0.23341549,  0.12336824, -0.44921644,\n",
       "        -0.0707103 ,  0.29315497,  0.05507081, -0.44819059,  0.24483351,\n",
       "        -0.1437884 ,  0.15595913, -0.05636652, -0.13218406,  1.        ,\n",
       "        -0.07156064, -0.2954701 , -0.04875666,  0.67383767, -0.08236645],\n",
       "       [-0.12758921, -0.06444653, -0.43460348, -0.36830964,  0.25240479,\n",
       "        -0.29830106, -0.52036317,  0.28886162, -0.15516965,  0.44582255,\n",
       "        -0.08066992, -0.53219932,  0.13861964, -0.29214959, -0.29723098,\n",
       "        -0.49606321,  0.27574204, -0.28130503, -0.44844099, -0.07156064,\n",
       "         1.        ,  0.29034942,  0.0349901 ,  0.21316907,  0.11719469],\n",
       "       [-0.01941303,  0.07204456, -0.09789984, -0.32691662,  0.1965637 ,\n",
       "        -0.10605781, -0.52828632,  0.70981771, -0.64170576,  0.19593037,\n",
       "        -0.30134447,  0.22432855, -0.77883128, -0.20139457, -0.08758334,\n",
       "        -0.29085927,  0.40277272,  0.29998001,  0.27043413, -0.2954701 ,\n",
       "         0.29034942,  1.        , -0.32188225, -0.35986096, -0.41143442],\n",
       "       [-0.12183766, -0.18679371, -0.12049779,  0.28011814,  0.13171791,\n",
       "        -0.09301207, -0.42459831, -0.52512157,  0.16160499, -0.65921877,\n",
       "        -0.81006324, -0.25648545, -0.23168704, -0.17918922, -0.41057197,\n",
       "         0.53596207, -0.85036793, -0.1866479 , -0.14464813, -0.04875666,\n",
       "         0.0349901 , -0.32188225,  1.        , -0.02610792, -0.02348272],\n",
       "       [ 0.10872387, -0.43182568, -0.20603402, -0.37311236, -0.47877135,\n",
       "        -0.22341756, -0.65930661, -0.29870326, -0.26426437,  0.20509785,\n",
       "        -0.21317732,  0.17493249,  0.06105471, -0.20734159, -0.22719363,\n",
       "        -0.07612901,  0.15652781,  0.14680502, -0.87039517,  0.67383767,\n",
       "         0.21316907, -0.35986096, -0.02610792,  1.        ,  0.2838416 ],\n",
       "       [-0.32553925,  0.27058357, -0.32068861, -0.16570317, -0.08260093,\n",
       "        -0.13814946, -0.12844595, -0.78007565,  0.154836  ,  0.31147464,\n",
       "        -0.21662424, -0.39802819,  0.23572294,  0.0160406 , -0.21079452,\n",
       "         0.05506684,  0.49856423, -0.28437232, -0.35356273, -0.08236645,\n",
       "         0.11719469, -0.41143442, -0.02348272,  0.2838416 ,  1.        ]])"
      ]
     },
     "execution_count": 38,
     "metadata": {},
     "output_type": "execute_result"
    }
   ],
   "source": [
    "similarity_matrix"
   ]
  },
  {
   "cell_type": "code",
   "execution_count": null,
   "metadata": {},
   "outputs": [],
   "source": []
  },
  {
   "cell_type": "code",
   "execution_count": 39,
   "metadata": {},
   "outputs": [],
   "source": [
    "sm = similarity_matrix\n",
    "for i in range(25):\n",
    "    for j in range(25):\n",
    "        if (i==j):\n",
    "            sm[i,j] = abs(sm[i,j])\n",
    "            sm[i,i] = 0\n",
    "    "
   ]
  },
  {
   "cell_type": "markdown",
   "metadata": {},
   "source": [
    "## Neighborhood Predictor"
   ]
  },
  {
   "cell_type": "code",
   "execution_count": 40,
   "metadata": {},
   "outputs": [],
   "source": [
    "nearest_neighbor = np.argmax(sm, axis=1)"
   ]
  },
  {
   "cell_type": "code",
   "execution_count": 41,
   "metadata": {},
   "outputs": [
    {
     "data": {
      "text/plain": [
       "10"
      ]
     },
     "execution_count": 41,
     "metadata": {},
     "output_type": "execute_result"
    }
   ],
   "source": [
    "nearest_neighbor[0]"
   ]
  },
  {
   "cell_type": "markdown",
   "metadata": {},
   "source": []
  },
  {
   "cell_type": "code",
   "execution_count": 51,
   "metadata": {},
   "outputs": [],
   "source": [
    "neighborhood_predictor = np.zeros((25,25))\n",
    "for j in range(baseline_predictor.shape[0]):\n",
    "    for k in range(baseline_predictor.shape[1]):\n",
    "        if (np.isnan(baseline_error[j,k])):\n",
    "            baseline_error[j,k] = 0.\n",
    "        if (similarity_matrix[k, nearest_neighbor[k]]>0):\n",
    "            neighborhood_predictor[j,k] = baseline_predictor[j,k] + baseline_error[j, nearest_neighbor[k]]\n",
    "        else:\n",
    "             neighborhood_predictor[j,k] = baseline_predictor[j,k] - baseline_error[j, nearest_neighbor[k]]\n",
    "        if neighborhood_predictor[j,k] < 1 :\n",
    "            neighborhood_predictor[j,k] = 1\n",
    "        if neighborhood_predictor[j,k] > 5:\n",
    "            neighborhood_predictor[j,k] = 5"
   ]
  },
  {
   "cell_type": "code",
   "execution_count": 52,
   "metadata": {},
   "outputs": [
    {
     "data": {
      "text/plain": [
       "array([[3.61396825, 3.93619048, 3.36649351, 1.76969697, 3.68467532,\n",
       "        3.75285714, 3.67857143, 3.89174603, 3.15384615, 4.00285714,\n",
       "        4.57428571, 3.45299145, 3.25285714, 3.96428571, 1.58741259,\n",
       "        2.45454545, 2.66952381, 2.13419913, 3.41258741, 3.06168067,\n",
       "        3.39416149, 3.05047619, 3.33619048, 3.25285714, 3.63922078],\n",
       "       [4.03968254, 4.5047619 , 4.54545455, 4.76969697, 4.07070707,\n",
       "        4.03571429, 3.48142857, 3.94174603, 2.15384615, 4.05285714,\n",
       "        5.        , 2.45299145, 3.30285714, 3.76714286, 2.58741259,\n",
       "        5.        , 1.77777778, 1.13419913, 2.41258741, 3.11168067,\n",
       "        2.39130435, 2.15873016, 4.51515152, 3.19117647, 3.68922078],\n",
       "       [3.86396825, 4.18619048, 3.61649351, 3.38619048, 5.        ,\n",
       "        4.00285714, 3.67857143, 4.14174603, 5.        , 4.25285714,\n",
       "        4.82428571, 5.        , 3.50285714, 3.96428571, 3.02208791,\n",
       "        4.07103896, 1.        , 1.13419913, 5.        , 3.31168067,\n",
       "        4.39130435, 1.        , 3.58619048, 3.19117647, 3.88922078],\n",
       "       [2.03968254, 3.5047619 , 4.54545455, 4.76969697, 4.07070707,\n",
       "        4.03571429, 3.67857143, 4.28648287, 3.15384615, 4.39759398,\n",
       "        4.32142857, 3.45299145, 3.64759398, 3.96428571, 3.16682475,\n",
       "        5.        , 2.77777778, 5.        , 3.41258741, 3.45641751,\n",
       "        3.78889833, 3.15873016, 4.51515152, 3.19117647, 4.03395762],\n",
       "       [4.03968254, 4.5047619 , 2.54545455, 2.76969697, 5.        ,\n",
       "        3.03571429, 3.55047619, 4.01079365, 4.15384615, 4.12190476,\n",
       "        4.32142857, 4.45299145, 3.37190476, 3.83619048, 2.89113553,\n",
       "        3.45454545, 3.77777778, 4.13419913, 4.41258741, 3.18072829,\n",
       "        3.39130435, 4.15873016, 2.51515152, 4.19117647, 3.7582684 ],\n",
       "       [3.97111111, 4.29333333, 3.72363636, 3.76969697, 4.07070707,\n",
       "        4.11      , 3.78857143, 5.        , 4.28307692, 5.        ,\n",
       "        4.93142857, 4.58222222, 4.58333333, 4.07428571, 2.58741259,\n",
       "        4.45454545, 3.02666667, 4.13419913, 4.54181818, 3.80882353,\n",
       "        3.75130435, 3.40761905, 3.69333333, 4.19117647, 4.96969697],\n",
       "       [4.00285714, 4.32507937, 3.7553824 , 4.76969697, 4.07356421,\n",
       "        4.14174603, 3.82031746, 4.28063492, 4.31482295, 4.39174603,\n",
       "        4.9631746 , 4.61396825, 3.64174603, 4.10603175, 2.58741259,\n",
       "        5.        , 3.0584127 , 3.13419913, 4.57356421, 3.45056956,\n",
       "        3.78305038, 3.43936508, 3.72507937, 3.64174603, 4.02810967],\n",
       "       [3.93215007, 4.25437229, 3.68467532, 3.76969697, 4.00285714,\n",
       "        4.07103896, 3.74961039, 4.20992785, 4.24411588, 4.32103896,\n",
       "        4.89246753, 4.54326118, 3.57103896, 4.03532468, 3.58741259,\n",
       "        4.45454545, 2.98770563, 4.13419913, 4.50285714, 2.80882353,\n",
       "        3.71234331, 3.36865801, 3.65437229, 3.19117647, 3.9574026 ],\n",
       "       [2.00285714, 2.32507937, 1.7553824 , 2.76969697, 2.07070707,\n",
       "        2.14174603, 1.82031746, 2.28063492, 2.31482295, 2.39174603,\n",
       "        2.9631746 , 2.61396825, 1.64174603, 2.10603175, 1.1609768 ,\n",
       "        3.45454545, 1.0584127 , 1.13419913, 2.57356421, 1.        ,\n",
       "        1.78305038, 1.43936508, 1.72507937, 1.19117647, 2.02810967],\n",
       "       [3.47760462, 3.79982684, 3.23012987, 2.76969697, 4.07070707,\n",
       "        3.61649351, 3.29506494, 2.22222222, 3.78957043, 2.33333333,\n",
       "        4.43792208, 4.08871573, 1.58333333, 3.58077922, 2.63572428,\n",
       "        3.45454545, 2.53316017, 3.13419913, 4.04831169, 2.80882353,\n",
       "        3.25779785, 2.91411255, 3.19982684, 3.11649351, 1.96969697],\n",
       "       [2.88319902, 3.20542125, 2.63572428, 1.        , 3.07070707,\n",
       "        3.02208791, 2.70065934, 4.22222222, 3.19516484, 4.33333333,\n",
       "        3.84351648, 3.49431013, 3.58333333, 2.98637363, 2.04131868,\n",
       "        1.45454545, 1.93875458, 4.13419913, 3.45390609, 1.80882353,\n",
       "        2.66339226, 2.31970696, 2.60542125, 2.19117647, 3.96969697],\n",
       "       [3.81396825, 4.13619048, 3.56649351, 3.76969697, 3.07070707,\n",
       "        3.95285714, 3.63142857, 4.09174603, 4.12593407, 4.20285714,\n",
       "        4.77428571, 4.42507937, 3.45285714, 3.91714286, 2.97208791,\n",
       "        4.45454545, 2.86952381, 5.        , 4.38467532, 1.80882353,\n",
       "        3.59416149, 3.25047619, 3.53619048, 3.19117647, 3.83922078],\n",
       "       [2.11396825, 2.43619048, 1.86649351, 1.        , 2.18467532,\n",
       "        2.25285714, 1.93142857, 2.39174603, 2.42593407, 2.50285714,\n",
       "        3.07428571, 2.72507937, 1.75285714, 2.21714286, 1.27208791,\n",
       "        1.45454545, 1.16952381, 1.68467532, 2.68467532, 1.56168067,\n",
       "        1.89416149, 1.55047619, 1.83619048, 1.75285714, 2.13922078],\n",
       "       [3.78063492, 4.10285714, 3.53316017, 3.76969697, 3.85134199,\n",
       "        3.91952381, 3.59809524, 4.0584127 , 4.09260073, 4.16952381,\n",
       "        4.74095238, 4.39174603, 3.41952381, 3.88380952, 2.93875458,\n",
       "        4.45454545, 2.83619048, 3.13419913, 4.35134199, 3.80882353,\n",
       "        3.56082816, 3.21714286, 3.50285714, 4.19117647, 3.80588745],\n",
       "       [3.71396825, 4.03619048, 3.46649351, 3.23619048, 3.78467532,\n",
       "        3.85285714, 3.53142857, 3.99174603, 4.02593407, 4.10285714,\n",
       "        4.67428571, 4.32507937, 3.35285714, 3.81714286, 2.87208791,\n",
       "        3.92103896, 2.76952381, 3.13419913, 4.28467532, 3.16168067,\n",
       "        3.49416149, 3.15047619, 3.43619048, 3.35285714, 3.73922078],\n",
       "       [4.44730159, 4.76952381, 4.19982684, 4.76969697, 5.        ,\n",
       "        4.58619048, 4.2647619 , 4.72507937, 4.7592674 , 4.83619048,\n",
       "        5.        , 5.        , 4.08619048, 4.55047619, 3.60542125,\n",
       "        5.        , 3.50285714, 5.        , 5.        , 3.89501401,\n",
       "        4.22749482, 3.88380952, 4.16952381, 2.19117647, 4.47255411],\n",
       "       [2.24730159, 2.56952381, 1.99982684, 1.76969697, 4.07070707,\n",
       "        2.38619048, 2.0647619 , 2.22222222, 4.15384615, 2.33333333,\n",
       "        2.32142857, 4.45299145, 1.58333333, 2.35047619, 1.40542125,\n",
       "        2.45454545, 1.30285714, 2.13419913, 4.41258741, 1.80882353,\n",
       "        1.39130435, 1.68380952, 1.96952381, 2.19117647, 1.96969697],\n",
       "       [4.03968254, 3.93619048, 2.54545455, 3.76969697, 4.07070707,\n",
       "        3.03571429, 2.67857143, 4.22222222, 3.15384615, 4.33333333,\n",
       "        5.        , 3.45299145, 3.58333333, 2.96428571, 2.58741259,\n",
       "        4.45454545, 2.77777778, 2.13419913, 3.41258741, 2.80882353,\n",
       "        3.39130435, 3.15873016, 2.51515152, 3.19117647, 3.96969697],\n",
       "       [4.72266391, 3.45987578, 4.54545455, 3.76969697, 5.        ,\n",
       "        3.03571429, 2.67857143, 5.        , 5.        , 5.        ,\n",
       "        4.6384472 , 5.        , 4.3615528 , 2.96428571, 3.88078356,\n",
       "        4.45454545, 3.77821946, 5.        , 5.        , 4.80882353,\n",
       "        4.50285714, 4.15917184, 4.51515152, 4.3615528 , 4.74791643],\n",
       "       [4.53502089, 4.85724311, 4.54545455, 4.76969697, 4.07070707,\n",
       "        4.67390977, 4.3524812 , 4.81279866, 4.15384615, 4.92390977,\n",
       "        5.        , 4.30685946, 4.17390977, 4.63819549, 2.69314054,\n",
       "        5.        , 2.77777778, 4.10572796, 4.30685946, 4.80882353,\n",
       "        4.39130435, 3.15873016, 4.51515152, 4.19117647, 4.56027341],\n",
       "       [1.23896825, 1.56119048, 1.        , 1.        , 1.07070707,\n",
       "        1.37785714, 1.05642857, 1.51674603, 1.55093407, 1.62785714,\n",
       "        2.19928571, 1.85007937, 1.        , 1.34214286, 1.        ,\n",
       "        1.44603896, 1.        , 1.        , 1.80967532, 1.        ,\n",
       "        1.01916149, 1.        , 1.        , 1.        , 1.26422078],\n",
       "       [3.20092478, 4.5047619 , 4.54545455, 2.76969697, 3.07070707,\n",
       "        4.03571429, 3.67857143, 4.47870255, 5.        , 4.58981366,\n",
       "        5.        , 5.        , 3.83981366, 3.96428571, 3.58741259,\n",
       "        3.45454545, 2.77777778, 2.13419913, 5.        , 3.64863719,\n",
       "        3.39130435, 3.15873016, 4.51515152, 5.        , 4.2261773 ],\n",
       "       [4.39396825, 4.5047619 , 3.54545455, 2.76969697, 4.07070707,\n",
       "        5.        , 4.67857143, 5.        , 4.15384615, 5.        ,\n",
       "        4.96714286, 4.44791209, 4.58333333, 4.96428571, 2.58741259,\n",
       "        3.45454545, 3.77777778, 4.13419913, 4.41258741, 4.80882353,\n",
       "        4.39130435, 4.15873016, 3.51515152, 4.19117647, 4.96969697],\n",
       "       [2.64730159, 2.5047619 , 3.54545455, 2.76969697, 2.71800866,\n",
       "        2.78619048, 2.4647619 , 2.92507937, 4.15384615, 3.03619048,\n",
       "        5.        , 4.45299145, 2.28619048, 2.75047619, 2.58741259,\n",
       "        3.45454545, 1.70285714, 2.21800866, 4.41258741, 2.09501401,\n",
       "        2.39130435, 2.08380952, 3.51515152, 2.28619048, 2.67255411],\n",
       "       [1.84730159, 2.16952381, 1.54545455, 1.        , 1.07070707,\n",
       "        1.98619048, 2.67857143, 2.12507937, 2.1592674 , 2.23619048,\n",
       "        3.32142857, 2.4584127 , 1.48619048, 2.96428571, 1.00542125,\n",
       "        1.45454545, 1.        , 1.13419913, 2.41800866, 1.29501401,\n",
       "        1.62749482, 1.28380952, 1.51515152, 2.19117647, 1.87255411]])"
      ]
     },
     "execution_count": 52,
     "metadata": {},
     "output_type": "execute_result"
    }
   ],
   "source": [
    "neighborhood_predictor"
   ]
  },
  {
   "cell_type": "code",
   "execution_count": null,
   "metadata": {},
   "outputs": [],
   "source": []
  },
  {
   "cell_type": "code",
   "execution_count": 53,
   "metadata": {},
   "outputs": [],
   "source": [
    "rmse3_test = math.sqrt(np.nanmean((rating_test - neighborhood_predictor[5:16, 5:16])**2))"
   ]
  },
  {
   "cell_type": "code",
   "execution_count": 54,
   "metadata": {},
   "outputs": [
    {
     "name": "stdout",
     "output_type": "stream",
     "text": [
      "0.9892469847394618\n"
     ]
    }
   ],
   "source": [
    "print(rmse3_test)"
   ]
  },
  {
   "cell_type": "code",
   "execution_count": 55,
   "metadata": {},
   "outputs": [],
   "source": [
    "rmse3_train = math.sqrt(np.nanmean((rating_train - neighborhood_predictor)**2))"
   ]
  },
  {
   "cell_type": "code",
   "execution_count": 56,
   "metadata": {},
   "outputs": [
    {
     "name": "stdout",
     "output_type": "stream",
     "text": [
      "0.8802380965023139\n"
     ]
    }
   ],
   "source": [
    "print(rmse3_train)"
   ]
  },
  {
   "cell_type": "code",
   "execution_count": 57,
   "metadata": {},
   "outputs": [
    {
     "name": "stdout",
     "output_type": "stream",
     "text": [
      "-0.02799429201128404\n"
     ]
    }
   ],
   "source": [
    "print((rmse3_test - rmse2_test)/rmse2_test)"
   ]
  },
  {
   "cell_type": "markdown",
   "metadata": {},
   "source": [
    "### There is an improvement of 2.8% on the test set from the Baseline Predictor model to the Neighborhood Predictor Model"
   ]
  },
  {
   "cell_type": "code",
   "execution_count": 58,
   "metadata": {},
   "outputs": [
    {
     "name": "stdout",
     "output_type": "stream",
     "text": [
      "-0.036866442972625\n"
     ]
    }
   ],
   "source": [
    "print((rmse3_train - rmse2_train)/rmse2_train)"
   ]
  },
  {
   "cell_type": "markdown",
   "metadata": {},
   "source": [
    "### There is an improvement of 3.7% on the train set from the Baseline Predictor model to the Neighborhood Predictor Model"
   ]
  },
  {
   "cell_type": "code",
   "execution_count": null,
   "metadata": {},
   "outputs": [],
   "source": []
  }
 ],
 "metadata": {
  "kernelspec": {
   "display_name": "Python 3",
   "language": "python",
   "name": "python3"
  },
  "language_info": {
   "codemirror_mode": {
    "name": "ipython",
    "version": 3
   },
   "file_extension": ".py",
   "mimetype": "text/x-python",
   "name": "python",
   "nbconvert_exporter": "python",
   "pygments_lexer": "ipython3",
   "version": "3.7.3"
  }
 },
 "nbformat": 4,
 "nbformat_minor": 2
}
