{
 "cells": [
  {
   "cell_type": "markdown",
   "metadata": {},
   "source": [
    "## Building a Recommendation System for Movie Rating"
   ]
  },
  {
   "cell_type": "markdown",
   "metadata": {},
   "source": [
    "### Importing Librairies"
   ]
  },
  {
   "cell_type": "code",
   "execution_count": 84,
   "metadata": {},
   "outputs": [],
   "source": [
    "import pandas as pd\n",
    "import numpy as np\n",
    "import math"
   ]
  },
  {
   "cell_type": "markdown",
   "metadata": {},
   "source": [
    "### Loading the dataset"
   ]
  },
  {
   "cell_type": "code",
   "execution_count": 85,
   "metadata": {},
   "outputs": [],
   "source": [
    "ratings = pd.read_csv(\"C:\\\\DATA612\\\\Movie_Ratings.csv\")"
   ]
  },
  {
   "cell_type": "markdown",
   "metadata": {},
   "source": [
    "### Inspecting the dataset"
   ]
  },
  {
   "cell_type": "code",
   "execution_count": 113,
   "metadata": {},
   "outputs": [
    {
     "name": "stdout",
     "output_type": "stream",
     "text": [
      "     Unnamed: 0  Patrick C  Heather  Bryan  Patrick T  Thomas  aaron  vanessa  \\\n",
      "0         Alien        NaN      NaN    2.0        NaN     5.0    4.0      NaN   \n",
      "1        Avatar        4.0      5.0    5.0        4.0     2.0    NaN      4.0   \n",
      "2  Blade Runner        5.0      NaN    NaN        NaN     5.0    4.0      NaN   \n",
      "3    Braveheart        4.0      NaN    5.0        NaN     4.0    4.0      3.0   \n",
      "4     Dodgeball        5.0      4.0    3.0        2.0     4.0    NaN      4.0   \n",
      "\n",
      "   greg  brian  ...  Zak  Matt  Chris.1  Josh  Amy  Valerie  Gary  Stephen  \\\n",
      "0   NaN    4.0  ...  NaN   NaN      4.0   3.0  NaN      NaN   2.0      5.0   \n",
      "1   3.0    NaN  ...  5.0   NaN      NaN   4.0  3.0      2.0   1.0      4.0   \n",
      "2   1.0    5.0  ...  NaN   NaN      3.0   NaN  3.0      3.0   1.0      NaN   \n",
      "3   4.0    4.0  ...  5.0   NaN      4.0   NaN  3.0      4.0   5.0      5.0   \n",
      "4   5.0    3.0  ...  3.0   NaN      3.0   NaN  4.0      3.0   4.0      3.0   \n",
      "\n",
      "   Jessica  Jeff  \n",
      "0      NaN   4.0  \n",
      "1      NaN   4.0  \n",
      "2      NaN   5.0  \n",
      "3      NaN   4.0  \n",
      "4      NaN   3.0  \n",
      "\n",
      "[5 rows x 26 columns]\n"
     ]
    }
   ],
   "source": [
    "print(ratings.head())"
   ]
  },
  {
   "cell_type": "code",
   "execution_count": 87,
   "metadata": {},
   "outputs": [],
   "source": [
    "ratings_mat = np.array(ratings.iloc[:,1:])"
   ]
  },
  {
   "cell_type": "code",
   "execution_count": 114,
   "metadata": {},
   "outputs": [
    {
     "name": "stdout",
     "output_type": "stream",
     "text": [
      "[[nan nan  2. nan  5.  4. nan nan  4. nan nan nan]\n",
      " [ 4.  5.  5.  4.  2. nan  4.  3. nan  3.  5.  4.]\n",
      " [ 5. nan nan nan  5.  4. nan  1.  5.  5. nan nan]\n",
      " [ 4. nan  5. nan  4.  4.  3.  4.  4. nan  3.  4.]\n",
      " [ 5.  4.  3.  2.  4. nan  4.  5.  3.  4.  5.  5.]\n",
      " [ 4.  5.  4.  3.  3. nan  4.  5.  5.  5.  5.  5.]\n",
      " [nan  5.  5. nan  4.  4.  4.  5.  5.  5.  3.  4.]\n",
      " [nan  5.  4. nan  4. nan  2.  3.  3.  1. nan  3.]\n",
      " [ 2. nan  3.  5.  2. nan nan nan  1. nan  2.  2.]\n",
      " [ 4.  4.  3.  2. nan  5.  2.  3.  5.  2.  4.  4.]]\n"
     ]
    }
   ],
   "source": [
    "print(ratings_mat[:10,:12])"
   ]
  },
  {
   "cell_type": "markdown",
   "metadata": {},
   "source": [
    "### Splitting the data into train and test set"
   ]
  },
  {
   "cell_type": "code",
   "execution_count": 89,
   "metadata": {},
   "outputs": [],
   "source": [
    "rating = ratings_mat.copy()"
   ]
  },
  {
   "cell_type": "code",
   "execution_count": 90,
   "metadata": {},
   "outputs": [],
   "source": [
    "rating_test = ratings_mat[5:16,5:16].copy()\n",
    "rating[5:16,5:16]= 'nan' \n",
    "rating_train = rating"
   ]
  },
  {
   "cell_type": "code",
   "execution_count": 115,
   "metadata": {},
   "outputs": [
    {
     "name": "stdout",
     "output_type": "stream",
     "text": [
      "[[nan nan nan nan nan nan nan nan nan nan nan]\n",
      " [nan nan nan nan nan nan nan nan nan nan nan]\n",
      " [nan nan nan nan nan nan nan nan nan nan nan]\n",
      " [nan nan nan nan nan nan nan nan nan nan nan]\n",
      " [nan nan nan nan nan nan nan nan nan nan nan]\n",
      " [nan nan nan nan nan nan nan nan nan nan nan]\n",
      " [nan nan nan nan nan nan nan nan nan nan nan]\n",
      " [nan nan nan nan nan nan nan nan nan nan nan]\n",
      " [nan nan nan nan nan nan nan nan nan nan nan]\n",
      " [nan nan nan nan nan nan nan nan nan nan nan]\n",
      " [nan nan nan nan nan nan nan nan nan nan nan]]\n"
     ]
    }
   ],
   "source": [
    "print(rating_train[5:16,5:16])"
   ]
  },
  {
   "cell_type": "code",
   "execution_count": 116,
   "metadata": {},
   "outputs": [
    {
     "name": "stdout",
     "output_type": "stream",
     "text": [
      "[[nan  4.  5.  5.  5.  5.  5.  5.  5.  3.  5.]\n",
      " [ 4.  4.  5.  5.  5.  3.  4.  3. nan  3.  5.]\n",
      " [nan  2.  3.  3.  1. nan  3.  2.  3.  2. nan]\n",
      " [nan nan nan  1. nan  2.  2.  2.  1.  1.  1.]\n",
      " [ 5.  2.  3.  5.  2.  4.  4.  3.  4.  3.  4.]\n",
      " [ 1.  4.  4.  4.  4.  2.  3.  3.  2.  1.  1.]\n",
      " [nan  3.  5.  4.  4. nan  5.  4. nan  5.  5.]\n",
      " [nan  1. nan  1.  1. nan nan  2. nan  3. nan]\n",
      " [ 3. nan  4.  5.  4. nan  5.  4. nan  5.  5.]\n",
      " [ 4.  4.  4. nan  4. nan  4. nan nan  3.  3.]\n",
      " [ 5. nan  5.  5.  5. nan nan  4. nan  4. nan]]\n"
     ]
    }
   ],
   "source": [
    "print(rating_test)"
   ]
  },
  {
   "cell_type": "markdown",
   "metadata": {},
   "source": [
    "### Mean of train set"
   ]
  },
  {
   "cell_type": "code",
   "execution_count": 93,
   "metadata": {},
   "outputs": [
    {
     "name": "stdout",
     "output_type": "stream",
     "text": [
      "3.4971428571428573\n"
     ]
    }
   ],
   "source": [
    "training_mean = np.nanmean(rating_train)\n",
    "print(training_mean)"
   ]
  },
  {
   "cell_type": "code",
   "execution_count": null,
   "metadata": {},
   "outputs": [],
   "source": []
  },
  {
   "cell_type": "markdown",
   "metadata": {},
   "source": [
    "### Creating a rating matrix of mean for training and test"
   ]
  },
  {
   "cell_type": "code",
   "execution_count": 94,
   "metadata": {},
   "outputs": [],
   "source": [
    "rating_mean_mat_test = np.ones(rating_test.shape)*training_mean"
   ]
  },
  {
   "cell_type": "code",
   "execution_count": 95,
   "metadata": {},
   "outputs": [],
   "source": [
    "rating_mean_mat_train = np.ones(rating_train.shape)*training_mean"
   ]
  },
  {
   "cell_type": "markdown",
   "metadata": {},
   "source": [
    "### Calculating the RMSE for raw average for both training data and test data."
   ]
  },
  {
   "cell_type": "code",
   "execution_count": 96,
   "metadata": {},
   "outputs": [],
   "source": [
    "rmse1_test = math.sqrt(np.nanmean((rating_test - rating_mean_mat_test)**2))"
   ]
  },
  {
   "cell_type": "code",
   "execution_count": 97,
   "metadata": {},
   "outputs": [
    {
     "name": "stdout",
     "output_type": "stream",
     "text": [
      "1.3373015778814\n"
     ]
    }
   ],
   "source": [
    "print(rmse1_test)"
   ]
  },
  {
   "cell_type": "code",
   "execution_count": 98,
   "metadata": {},
   "outputs": [],
   "source": [
    "rmse1_train = math.sqrt(np.nanmean((rating_train - rating_mean_mat_train)**2))"
   ]
  },
  {
   "cell_type": "code",
   "execution_count": 99,
   "metadata": {},
   "outputs": [
    {
     "name": "stdout",
     "output_type": "stream",
     "text": [
      "1.2867424460430998\n"
     ]
    }
   ],
   "source": [
    "print(rmse1_train)"
   ]
  },
  {
   "cell_type": "markdown",
   "metadata": {},
   "source": [
    "### Calculating the bias for each item."
   ]
  },
  {
   "cell_type": "code",
   "execution_count": 100,
   "metadata": {},
   "outputs": [],
   "source": [
    "bias_movies = np.nanmean(rating_train, axis=0) - training_mean"
   ]
  },
  {
   "cell_type": "code",
   "execution_count": 101,
   "metadata": {},
   "outputs": [
    {
     "name": "stdout",
     "output_type": "stream",
     "text": [
      "[ 0.11396825  0.43619048 -0.13350649 -0.36380952  0.18467532  0.25285714\n",
      " -0.06857143  0.39174603  0.42593407  0.50285714  1.07428571  0.72507937\n",
      " -0.24714286  0.21714286 -0.72791209  0.32103896 -0.83047619 -0.31532468\n",
      "  0.68467532 -0.43831933 -0.10583851 -0.44952381 -0.16380952 -0.24714286\n",
      "  0.13922078]\n"
     ]
    }
   ],
   "source": [
    "print(bias_movies)"
   ]
  },
  {
   "cell_type": "markdown",
   "metadata": {},
   "source": [
    "### Calculate the bias for each user."
   ]
  },
  {
   "cell_type": "code",
   "execution_count": 102,
   "metadata": {},
   "outputs": [],
   "source": [
    "bias_users = np.nanmean(rating_train, axis=1) - training_mean"
   ]
  },
  {
   "cell_type": "code",
   "execution_count": 103,
   "metadata": {},
   "outputs": [
    {
     "name": "stdout",
     "output_type": "stream",
     "text": [
      "[ 0.00285714  0.05285714  0.25285714  0.39759398  0.12190476  0.36\n",
      "  0.39174603  0.32103896 -1.60825397 -0.13350649 -0.72791209  0.20285714\n",
      " -1.49714286  0.16952381  0.10285714  0.83619048 -1.36380952  0.00285714\n",
      "  1.1115528   0.92390977 -2.37214286  0.58981366  0.78285714 -0.96380952\n",
      " -1.76380952]\n"
     ]
    }
   ],
   "source": [
    "print(bias_users)"
   ]
  },
  {
   "cell_type": "markdown",
   "metadata": {},
   "source": [
    "### Calculate the RMSE for the baseline predictors for both your training data and your test data."
   ]
  },
  {
   "cell_type": "markdown",
   "metadata": {},
   "source": [
    "## Baseline Predictor = Raw avg + Bias users + Bias Movies"
   ]
  },
  {
   "cell_type": "code",
   "execution_count": 104,
   "metadata": {},
   "outputs": [],
   "source": [
    "baseline = np.zeros((25, 25))\n",
    "for i in range(len(bias_users)):\n",
    "    for j in range(len(bias_movies)):\n",
    "        baseline[i,j] = training_mean + bias_users[i] + bias_movies[j]\n",
    "        if baseline[i,j] < 1 :\n",
    "            baseline[i,j] = 1\n",
    "        if baseline[i,j] > 5:\n",
    "            baseline[i,j] = 5"
   ]
  },
  {
   "cell_type": "code",
   "execution_count": 112,
   "metadata": {},
   "outputs": [
    {
     "name": "stdout",
     "output_type": "stream",
     "text": [
      "[[3.61396825 3.93619048 3.36649351 3.13619048 3.68467532 3.75285714\n",
      "  3.43142857 3.89174603 3.92593407 4.00285714 4.57428571 4.22507937\n",
      "  3.25285714 3.71714286 2.77208791 3.82103896 2.66952381 3.18467532\n",
      "  4.18467532 3.06168067 3.39416149 3.05047619 3.33619048 3.25285714\n",
      "  3.63922078]\n",
      " [3.66396825 3.98619048 3.41649351 3.18619048 3.73467532 3.80285714\n",
      "  3.48142857 3.94174603 3.97593407 4.05285714 4.62428571 4.27507937\n",
      "  3.30285714 3.76714286 2.82208791 3.87103896 2.71952381 3.23467532\n",
      "  4.23467532 3.11168067 3.44416149 3.10047619 3.38619048 3.30285714\n",
      "  3.68922078]\n",
      " [3.86396825 4.18619048 3.61649351 3.38619048 3.93467532 4.00285714\n",
      "  3.68142857 4.14174603 4.17593407 4.25285714 4.82428571 4.47507937\n",
      "  3.50285714 3.96714286 3.02208791 4.07103896 2.91952381 3.43467532\n",
      "  4.43467532 3.31168067 3.64416149 3.30047619 3.58619048 3.50285714\n",
      "  3.88922078]\n",
      " [4.0087051  4.33092732 3.76123035 3.53092732 4.07941217 4.14759398\n",
      "  3.82616541 4.28648287 4.32067091 4.39759398 4.96902256 4.61981621\n",
      "  3.64759398 4.1118797  3.16682475 4.2157758  3.06426065 3.57941217\n",
      "  4.57941217 3.45641751 3.78889833 3.44521303 3.73092732 3.64759398\n",
      "  4.03395762]\n",
      " [3.73301587 4.0552381  3.48554113 3.2552381  3.80372294 3.87190476\n",
      "  3.55047619 4.01079365 4.04498168 4.12190476 4.69333333 4.34412698\n",
      "  3.37190476 3.83619048 2.89113553 3.94008658 2.78857143 3.30372294\n",
      "  4.30372294 3.18072829 3.51320911 3.16952381 3.4552381  3.37190476\n",
      "  3.7582684 ]\n",
      " [3.97111111 4.29333333 3.72363636 3.49333333 4.04181818 4.11\n",
      "  3.78857143 4.24888889 4.28307692 4.36       4.93142857 4.58222222\n",
      "  3.61       4.07428571 3.12923077 4.17818182 3.02666667 3.54181818\n",
      "  4.54181818 3.41882353 3.75130435 3.40761905 3.69333333 3.61\n",
      "  3.99636364]\n",
      " [4.00285714 4.32507937 3.7553824  3.52507937 4.07356421 4.14174603\n",
      "  3.82031746 4.28063492 4.31482295 4.39174603 4.9631746  4.61396825\n",
      "  3.64174603 4.10603175 3.1609768  4.20992785 3.0584127  3.57356421\n",
      "  4.57356421 3.45056956 3.78305038 3.43936508 3.72507937 3.64174603\n",
      "  4.02810967]\n",
      " [3.93215007 4.25437229 3.68467532 3.45437229 4.00285714 4.07103896\n",
      "  3.74961039 4.20992785 4.24411588 4.32103896 4.89246753 4.54326118\n",
      "  3.57103896 4.03532468 3.09026973 4.13922078 2.98770563 3.50285714\n",
      "  4.50285714 3.37986249 3.71234331 3.36865801 3.65437229 3.57103896\n",
      "  3.9574026 ]\n",
      " [2.00285714 2.32507937 1.7553824  1.52507937 2.07356421 2.14174603\n",
      "  1.82031746 2.28063492 2.31482295 2.39174603 2.9631746  2.61396825\n",
      "  1.64174603 2.10603175 1.1609768  2.20992785 1.0584127  1.57356421\n",
      "  2.57356421 1.45056956 1.78305038 1.43936508 1.72507937 1.64174603\n",
      "  2.02810967]\n",
      " [3.47760462 3.79982684 3.23012987 2.99982684 3.54831169 3.61649351\n",
      "  3.29506494 3.7553824  3.78957043 3.86649351 4.43792208 4.08871573\n",
      "  3.11649351 3.58077922 2.63572428 3.68467532 2.53316017 3.04831169\n",
      "  4.04831169 2.92531704 3.25779785 2.91411255 3.19982684 3.11649351\n",
      "  3.50285714]\n",
      " [2.88319902 3.20542125 2.63572428 2.40542125 2.95390609 3.02208791\n",
      "  2.70065934 3.1609768  3.19516484 3.27208791 3.84351648 3.49431013\n",
      "  2.52208791 2.98637363 2.04131868 3.09026973 1.93875458 2.45390609\n",
      "  3.45390609 2.33091144 2.66339226 2.31970696 2.60542125 2.52208791\n",
      "  2.90845155]\n",
      " [3.81396825 4.13619048 3.56649351 3.33619048 3.88467532 3.95285714\n",
      "  3.63142857 4.09174603 4.12593407 4.20285714 4.77428571 4.42507937\n",
      "  3.45285714 3.91714286 2.97208791 4.02103896 2.86952381 3.38467532\n",
      "  4.38467532 3.26168067 3.59416149 3.25047619 3.53619048 3.45285714\n",
      "  3.83922078]\n",
      " [2.11396825 2.43619048 1.86649351 1.63619048 2.18467532 2.25285714\n",
      "  1.93142857 2.39174603 2.42593407 2.50285714 3.07428571 2.72507937\n",
      "  1.75285714 2.21714286 1.27208791 2.32103896 1.16952381 1.68467532\n",
      "  2.68467532 1.56168067 1.89416149 1.55047619 1.83619048 1.75285714\n",
      "  2.13922078]\n",
      " [3.78063492 4.10285714 3.53316017 3.30285714 3.85134199 3.91952381\n",
      "  3.59809524 4.0584127  4.09260073 4.16952381 4.74095238 4.39174603\n",
      "  3.41952381 3.88380952 2.93875458 3.98770563 2.83619048 3.35134199\n",
      "  4.35134199 3.22834734 3.56082816 3.21714286 3.50285714 3.41952381\n",
      "  3.80588745]\n",
      " [3.71396825 4.03619048 3.46649351 3.23619048 3.78467532 3.85285714\n",
      "  3.53142857 3.99174603 4.02593407 4.10285714 4.67428571 4.32507937\n",
      "  3.35285714 3.81714286 2.87208791 3.92103896 2.76952381 3.28467532\n",
      "  4.28467532 3.16168067 3.49416149 3.15047619 3.43619048 3.35285714\n",
      "  3.73922078]\n",
      " [4.44730159 4.76952381 4.19982684 3.96952381 4.51800866 4.58619048\n",
      "  4.2647619  4.72507937 4.7592674  4.83619048 5.         5.\n",
      "  4.08619048 4.55047619 3.60542125 4.65437229 3.50285714 4.01800866\n",
      "  5.         3.89501401 4.22749482 3.88380952 4.16952381 4.08619048\n",
      "  4.47255411]\n",
      " [2.24730159 2.56952381 1.99982684 1.76952381 2.31800866 2.38619048\n",
      "  2.0647619  2.52507937 2.5592674  2.63619048 3.20761905 2.8584127\n",
      "  1.88619048 2.35047619 1.40542125 2.45437229 1.30285714 1.81800866\n",
      "  2.81800866 1.69501401 2.02749482 1.68380952 1.96952381 1.88619048\n",
      "  2.27255411]\n",
      " [3.61396825 3.93619048 3.36649351 3.13619048 3.68467532 3.75285714\n",
      "  3.43142857 3.89174603 3.92593407 4.00285714 4.57428571 4.22507937\n",
      "  3.25285714 3.71714286 2.77208791 3.82103896 2.66952381 3.18467532\n",
      "  4.18467532 3.06168067 3.39416149 3.05047619 3.33619048 3.25285714\n",
      "  3.63922078]\n",
      " [4.72266391 5.         4.47518916 4.24488613 4.79337098 4.8615528\n",
      "  4.54012422 5.         5.         5.         5.         5.\n",
      "  4.3615528  4.82583851 3.88078356 4.92973461 3.77821946 4.29337098\n",
      "  5.         4.17037632 4.50285714 4.15917184 4.44488613 4.3615528\n",
      "  4.74791643]\n",
      " [4.53502089 4.85724311 4.28754614 4.05724311 4.60572796 4.67390977\n",
      "  4.3524812  4.81279866 4.8469867  4.92390977 5.         5.\n",
      "  4.17390977 4.63819549 3.69314054 4.74209159 3.59057644 4.10572796\n",
      "  5.         3.9827333  4.31521412 3.97152882 4.25724311 4.17390977\n",
      "  4.56027341]\n",
      " [1.23896825 1.56119048 1.         1.         1.30967532 1.37785714\n",
      "  1.05642857 1.51674603 1.55093407 1.62785714 2.19928571 1.85007937\n",
      "  1.         1.34214286 1.         1.44603896 1.         1.\n",
      "  1.80967532 1.         1.01916149 1.         1.         1.\n",
      "  1.26422078]\n",
      " [4.20092478 4.523147   3.95345003 3.723147   4.27163185 4.33981366\n",
      "  4.01838509 4.47870255 4.51289059 4.58981366 5.         4.81203589\n",
      "  3.83981366 4.30409938 3.35904443 4.40799548 3.25648033 3.77163185\n",
      "  4.77163185 3.64863719 3.98111801 3.63743271 3.923147   3.83981366\n",
      "  4.2261773 ]\n",
      " [4.39396825 4.71619048 4.14649351 3.91619048 4.46467532 4.53285714\n",
      "  4.21142857 4.67174603 4.70593407 4.78285714 5.         5.\n",
      "  4.03285714 4.49714286 3.55208791 4.60103896 3.44952381 3.96467532\n",
      "  4.96467532 3.84168067 4.17416149 3.83047619 4.11619048 4.03285714\n",
      "  4.41922078]\n",
      " [2.64730159 2.96952381 2.39982684 2.16952381 2.71800866 2.78619048\n",
      "  2.4647619  2.92507937 2.9592674  3.03619048 3.60761905 3.2584127\n",
      "  2.28619048 2.75047619 1.80542125 2.85437229 1.70285714 2.21800866\n",
      "  3.21800866 2.09501401 2.42749482 2.08380952 2.36952381 2.28619048\n",
      "  2.67255411]\n",
      " [1.84730159 2.16952381 1.59982684 1.36952381 1.91800866 1.98619048\n",
      "  1.6647619  2.12507937 2.1592674  2.23619048 2.80761905 2.4584127\n",
      "  1.48619048 1.95047619 1.00542125 2.05437229 1.         1.41800866\n",
      "  2.41800866 1.29501401 1.62749482 1.28380952 1.56952381 1.48619048\n",
      "  1.87255411]]\n"
     ]
    }
   ],
   "source": [
    "print(baseline)"
   ]
  },
  {
   "cell_type": "code",
   "execution_count": 106,
   "metadata": {},
   "outputs": [],
   "source": [
    "rmse2_test = math.sqrt(np.nanmean((rating_test - baseline[5:16, 5:16])**2))"
   ]
  },
  {
   "cell_type": "code",
   "execution_count": 107,
   "metadata": {},
   "outputs": [
    {
     "name": "stdout",
     "output_type": "stream",
     "text": [
      "1.0177378348800252\n"
     ]
    }
   ],
   "source": [
    "print(rmse2_test)"
   ]
  },
  {
   "cell_type": "code",
   "execution_count": 108,
   "metadata": {},
   "outputs": [],
   "source": [
    "rmse2_train = math.sqrt(np.nanmean((rating_train - baseline)**2))"
   ]
  },
  {
   "cell_type": "code",
   "execution_count": 109,
   "metadata": {},
   "outputs": [
    {
     "name": "stdout",
     "output_type": "stream",
     "text": [
      "0.9139315000290194\n"
     ]
    }
   ],
   "source": [
    "print(rmse2_train)"
   ]
  },
  {
   "cell_type": "markdown",
   "metadata": {},
   "source": [
    "### mesure of improvement"
   ]
  },
  {
   "cell_type": "code",
   "execution_count": 110,
   "metadata": {},
   "outputs": [
    {
     "name": "stdout",
     "output_type": "stream",
     "text": [
      "-0.2389616136605767\n"
     ]
    }
   ],
   "source": [
    "print((rmse2_test - rmse1_test)/rmse1_test)"
   ]
  },
  {
   "cell_type": "markdown",
   "metadata": {},
   "source": [
    "### There is an improvement of 24% on the test set from the raw average model to the Baseline Model"
   ]
  },
  {
   "cell_type": "code",
   "execution_count": 111,
   "metadata": {},
   "outputs": [
    {
     "name": "stdout",
     "output_type": "stream",
     "text": [
      "-0.28973237586163614\n"
     ]
    }
   ],
   "source": [
    "print((rmse2_train - rmse1_train)/rmse1_train)"
   ]
  },
  {
   "cell_type": "markdown",
   "metadata": {},
   "source": [
    "### There is an improvement of 29% on the train set from raw average model to Baseline Model"
   ]
  },
  {
   "cell_type": "code",
   "execution_count": null,
   "metadata": {},
   "outputs": [],
   "source": []
  }
 ],
 "metadata": {
  "kernelspec": {
   "display_name": "Python 3",
   "language": "python",
   "name": "python3"
  },
  "language_info": {
   "codemirror_mode": {
    "name": "ipython",
    "version": 3
   },
   "file_extension": ".py",
   "mimetype": "text/x-python",
   "name": "python",
   "nbconvert_exporter": "python",
   "pygments_lexer": "ipython3",
   "version": "3.7.3"
  }
 },
 "nbformat": 4,
 "nbformat_minor": 2
}
